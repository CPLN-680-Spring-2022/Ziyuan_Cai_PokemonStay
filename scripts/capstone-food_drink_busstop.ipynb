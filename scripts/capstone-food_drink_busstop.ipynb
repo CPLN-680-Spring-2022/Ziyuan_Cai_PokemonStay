{
 "cells": [
  {
   "cell_type": "code",
   "execution_count": 1,
   "id": "479b8682",
   "metadata": {
    "collapsed": true
   },
   "outputs": [
    {
     "ename": "UnicodeDecodeError",
     "evalue": "'utf-8' codec can't decode byte 0xd5 in position 71: invalid continuation byte",
     "output_type": "error",
     "traceback": [
      "\u001b[1;31m---------------------------------------------------------------------------\u001b[0m",
      "\u001b[1;31mUnicodeDecodeError\u001b[0m                        Traceback (most recent call last)",
      "\u001b[1;31mUnicodeDecodeError\u001b[0m: 'utf-8' codec can't decode byte 0xd5 in position 71: invalid continuation byte"
     ]
    },
    {
     "name": "stderr",
     "output_type": "stream",
     "text": [
      "Exception ignored in: 'fiona._env.log_error'\n",
      "Traceback (most recent call last):\n",
      "  File \"D:\\Conda\\envs\\musa-550-fall-2021\\lib\\site-packages\\fiona\\env.py\", line 283, in defenv\n",
      "    local._env.start()\n",
      "UnicodeDecodeError: 'utf-8' codec can't decode byte 0xd5 in position 71: invalid continuation byte\n"
     ]
    },
    {
     "ename": "UnicodeDecodeError",
     "evalue": "'utf-8' codec can't decode byte 0xd5 in position 71: invalid continuation byte",
     "output_type": "error",
     "traceback": [
      "\u001b[1;31m---------------------------------------------------------------------------\u001b[0m",
      "\u001b[1;31mUnicodeDecodeError\u001b[0m                        Traceback (most recent call last)",
      "\u001b[1;31mUnicodeDecodeError\u001b[0m: 'utf-8' codec can't decode byte 0xd5 in position 71: invalid continuation byte"
     ]
    },
    {
     "name": "stderr",
     "output_type": "stream",
     "text": [
      "Exception ignored in: 'fiona._env.log_error'\n",
      "Traceback (most recent call last):\n",
      "  File \"D:\\Conda\\envs\\musa-550-fall-2021\\lib\\site-packages\\fiona\\env.py\", line 283, in defenv\n",
      "    local._env.start()\n",
      "UnicodeDecodeError: 'utf-8' codec can't decode byte 0xd5 in position 71: invalid continuation byte\n"
     ]
    },
    {
     "ename": "UnicodeDecodeError",
     "evalue": "'utf-8' codec can't decode byte 0xd5 in position 76: invalid continuation byte",
     "output_type": "error",
     "traceback": [
      "\u001b[1;31m---------------------------------------------------------------------------\u001b[0m",
      "\u001b[1;31mUnicodeDecodeError\u001b[0m                        Traceback (most recent call last)",
      "\u001b[1;31mUnicodeDecodeError\u001b[0m: 'utf-8' codec can't decode byte 0xd5 in position 76: invalid continuation byte"
     ]
    },
    {
     "name": "stderr",
     "output_type": "stream",
     "text": [
      "Exception ignored in: 'fiona._env.log_error'\n",
      "Traceback (most recent call last):\n",
      "  File \"D:\\Conda\\envs\\musa-550-fall-2021\\lib\\site-packages\\fiona\\env.py\", line 283, in defenv\n",
      "    local._env.start()\n",
      "UnicodeDecodeError: 'utf-8' codec can't decode byte 0xd5 in position 76: invalid continuation byte\n"
     ]
    },
    {
     "ename": "UnicodeDecodeError",
     "evalue": "'utf-8' codec can't decode byte 0xd5 in position 76: invalid continuation byte",
     "output_type": "error",
     "traceback": [
      "\u001b[1;31m---------------------------------------------------------------------------\u001b[0m",
      "\u001b[1;31mUnicodeDecodeError\u001b[0m                        Traceback (most recent call last)",
      "\u001b[1;31mUnicodeDecodeError\u001b[0m: 'utf-8' codec can't decode byte 0xd5 in position 76: invalid continuation byte"
     ]
    },
    {
     "name": "stderr",
     "output_type": "stream",
     "text": [
      "Exception ignored in: 'fiona._env.log_error'\n",
      "Traceback (most recent call last):\n",
      "  File \"D:\\Conda\\envs\\musa-550-fall-2021\\lib\\site-packages\\fiona\\env.py\", line 283, in defenv\n",
      "    local._env.start()\n",
      "UnicodeDecodeError: 'utf-8' codec can't decode byte 0xd5 in position 76: invalid continuation byte\n"
     ]
    },
    {
     "ename": "UnicodeDecodeError",
     "evalue": "'utf-8' codec can't decode byte 0xd5 in position 67: invalid continuation byte",
     "output_type": "error",
     "traceback": [
      "\u001b[1;31m---------------------------------------------------------------------------\u001b[0m",
      "\u001b[1;31mUnicodeDecodeError\u001b[0m                        Traceback (most recent call last)",
      "\u001b[1;31mUnicodeDecodeError\u001b[0m: 'utf-8' codec can't decode byte 0xd5 in position 67: invalid continuation byte"
     ]
    },
    {
     "name": "stderr",
     "output_type": "stream",
     "text": [
      "Exception ignored in: 'fiona._env.log_error'\n",
      "Traceback (most recent call last):\n",
      "  File \"D:\\Conda\\envs\\musa-550-fall-2021\\lib\\site-packages\\fiona\\env.py\", line 283, in defenv\n",
      "    local._env.start()\n",
      "UnicodeDecodeError: 'utf-8' codec can't decode byte 0xd5 in position 67: invalid continuation byte\n"
     ]
    },
    {
     "ename": "UnicodeDecodeError",
     "evalue": "'utf-8' codec can't decode byte 0xd5 in position 67: invalid continuation byte",
     "output_type": "error",
     "traceback": [
      "\u001b[1;31m---------------------------------------------------------------------------\u001b[0m",
      "\u001b[1;31mUnicodeDecodeError\u001b[0m                        Traceback (most recent call last)",
      "\u001b[1;31mUnicodeDecodeError\u001b[0m: 'utf-8' codec can't decode byte 0xd5 in position 67: invalid continuation byte"
     ]
    },
    {
     "name": "stderr",
     "output_type": "stream",
     "text": [
      "Exception ignored in: 'fiona._env.log_error'\n",
      "Traceback (most recent call last):\n",
      "  File \"D:\\Conda\\envs\\musa-550-fall-2021\\lib\\site-packages\\fiona\\env.py\", line 283, in defenv\n",
      "    local._env.start()\n",
      "UnicodeDecodeError: 'utf-8' codec can't decode byte 0xd5 in position 67: invalid continuation byte\n"
     ]
    },
    {
     "ename": "UnicodeDecodeError",
     "evalue": "'utf-8' codec can't decode byte 0xd5 in position 71: invalid continuation byte",
     "output_type": "error",
     "traceback": [
      "\u001b[1;31m---------------------------------------------------------------------------\u001b[0m",
      "\u001b[1;31mUnicodeDecodeError\u001b[0m                        Traceback (most recent call last)",
      "\u001b[1;31mUnicodeDecodeError\u001b[0m: 'utf-8' codec can't decode byte 0xd5 in position 71: invalid continuation byte"
     ]
    },
    {
     "name": "stderr",
     "output_type": "stream",
     "text": [
      "Exception ignored in: 'fiona._env.log_error'\n",
      "Traceback (most recent call last):\n",
      "  File \"D:\\Conda\\envs\\musa-550-fall-2021\\lib\\site-packages\\fiona\\env.py\", line 283, in defenv\n",
      "    local._env.start()\n",
      "UnicodeDecodeError: 'utf-8' codec can't decode byte 0xd5 in position 71: invalid continuation byte\n"
     ]
    },
    {
     "ename": "UnicodeDecodeError",
     "evalue": "'utf-8' codec can't decode byte 0xd5 in position 71: invalid continuation byte",
     "output_type": "error",
     "traceback": [
      "\u001b[1;31m---------------------------------------------------------------------------\u001b[0m",
      "\u001b[1;31mUnicodeDecodeError\u001b[0m                        Traceback (most recent call last)",
      "\u001b[1;31mUnicodeDecodeError\u001b[0m: 'utf-8' codec can't decode byte 0xd5 in position 71: invalid continuation byte"
     ]
    },
    {
     "name": "stderr",
     "output_type": "stream",
     "text": [
      "Exception ignored in: 'fiona._env.log_error'\n",
      "Traceback (most recent call last):\n",
      "  File \"D:\\Conda\\envs\\musa-550-fall-2021\\lib\\site-packages\\fiona\\env.py\", line 283, in defenv\n",
      "    local._env.start()\n",
      "UnicodeDecodeError: 'utf-8' codec can't decode byte 0xd5 in position 71: invalid continuation byte\n"
     ]
    },
    {
     "ename": "UnicodeDecodeError",
     "evalue": "'utf-8' codec can't decode byte 0xd5 in position 76: invalid continuation byte",
     "output_type": "error",
     "traceback": [
      "\u001b[1;31m---------------------------------------------------------------------------\u001b[0m",
      "\u001b[1;31mUnicodeDecodeError\u001b[0m                        Traceback (most recent call last)",
      "\u001b[1;31mUnicodeDecodeError\u001b[0m: 'utf-8' codec can't decode byte 0xd5 in position 76: invalid continuation byte"
     ]
    },
    {
     "name": "stderr",
     "output_type": "stream",
     "text": [
      "Exception ignored in: 'fiona._env.log_error'\n",
      "Traceback (most recent call last):\n",
      "  File \"D:\\Conda\\envs\\musa-550-fall-2021\\lib\\site-packages\\fiona\\env.py\", line 283, in defenv\n",
      "    local._env.start()\n",
      "UnicodeDecodeError: 'utf-8' codec can't decode byte 0xd5 in position 76: invalid continuation byte\n"
     ]
    },
    {
     "ename": "UnicodeDecodeError",
     "evalue": "'utf-8' codec can't decode byte 0xd5 in position 76: invalid continuation byte",
     "output_type": "error",
     "traceback": [
      "\u001b[1;31m---------------------------------------------------------------------------\u001b[0m",
      "\u001b[1;31mUnicodeDecodeError\u001b[0m                        Traceback (most recent call last)",
      "\u001b[1;31mUnicodeDecodeError\u001b[0m: 'utf-8' codec can't decode byte 0xd5 in position 76: invalid continuation byte"
     ]
    },
    {
     "name": "stderr",
     "output_type": "stream",
     "text": [
      "Exception ignored in: 'fiona._env.log_error'\n",
      "Traceback (most recent call last):\n",
      "  File \"D:\\Conda\\envs\\musa-550-fall-2021\\lib\\site-packages\\fiona\\env.py\", line 283, in defenv\n",
      "    local._env.start()\n",
      "UnicodeDecodeError: 'utf-8' codec can't decode byte 0xd5 in position 76: invalid continuation byte\n"
     ]
    },
    {
     "ename": "UnicodeDecodeError",
     "evalue": "'utf-8' codec can't decode byte 0xd5 in position 67: invalid continuation byte",
     "output_type": "error",
     "traceback": [
      "\u001b[1;31m---------------------------------------------------------------------------\u001b[0m",
      "\u001b[1;31mUnicodeDecodeError\u001b[0m                        Traceback (most recent call last)",
      "\u001b[1;31mUnicodeDecodeError\u001b[0m: 'utf-8' codec can't decode byte 0xd5 in position 67: invalid continuation byte"
     ]
    },
    {
     "name": "stderr",
     "output_type": "stream",
     "text": [
      "Exception ignored in: 'fiona._env.log_error'\n",
      "Traceback (most recent call last):\n",
      "  File \"D:\\Conda\\envs\\musa-550-fall-2021\\lib\\site-packages\\fiona\\env.py\", line 283, in defenv\n",
      "    local._env.start()\n",
      "UnicodeDecodeError: 'utf-8' codec can't decode byte 0xd5 in position 67: invalid continuation byte\n"
     ]
    },
    {
     "ename": "UnicodeDecodeError",
     "evalue": "'utf-8' codec can't decode byte 0xd5 in position 67: invalid continuation byte",
     "output_type": "error",
     "traceback": [
      "\u001b[1;31m---------------------------------------------------------------------------\u001b[0m",
      "\u001b[1;31mUnicodeDecodeError\u001b[0m                        Traceback (most recent call last)",
      "\u001b[1;31mUnicodeDecodeError\u001b[0m: 'utf-8' codec can't decode byte 0xd5 in position 67: invalid continuation byte"
     ]
    },
    {
     "name": "stderr",
     "output_type": "stream",
     "text": [
      "Exception ignored in: 'fiona._env.log_error'\n",
      "Traceback (most recent call last):\n",
      "  File \"D:\\Conda\\envs\\musa-550-fall-2021\\lib\\site-packages\\fiona\\env.py\", line 283, in defenv\n",
      "    local._env.start()\n",
      "UnicodeDecodeError: 'utf-8' codec can't decode byte 0xd5 in position 67: invalid continuation byte\n"
     ]
    }
   ],
   "source": [
    "from matplotlib import pyplot as plt\n",
    "import numpy as np\n",
    "import pandas as pd\n",
    "import geopandas as gpd\n",
    "import osmnx as ox"
   ]
  },
  {
   "cell_type": "code",
   "execution_count": 20,
   "id": "79115b02",
   "metadata": {},
   "outputs": [
    {
     "name": "stderr",
     "output_type": "stream",
     "text": [
      "C:\\Users\\caizi\\AppData\\Local\\Temp/ipykernel_30056/1976095343.py:2: UserWarning: Geometry is in a geographic CRS. Results from 'centroid' are likely incorrect. Use 'GeoSeries.to_crs()' to re-project geometries to a projected CRS before this operation.\n",
      "\n",
      "  drink = drink.centroid\n"
     ]
    }
   ],
   "source": [
    "drink = ox.geometries_from_place(\"Philadelphia, PA\", tags={\"amenity\": [\"bar\", \"cafe\"]})\n",
    "drink = drink.centroid"
   ]
  },
  {
   "cell_type": "code",
   "execution_count": 21,
   "id": "d63e4058",
   "metadata": {},
   "outputs": [
    {
     "name": "stderr",
     "output_type": "stream",
     "text": [
      "C:\\Users\\caizi\\AppData\\Local\\Temp/ipykernel_30056/1673441495.py:2: UserWarning: Geometry is in a geographic CRS. Results from 'centroid' are likely incorrect. Use 'GeoSeries.to_crs()' to re-project geometries to a projected CRS before this operation.\n",
      "\n",
      "  food = food.centroid\n"
     ]
    }
   ],
   "source": [
    "food = ox.geometries_from_place(\"Philadelphia, PA\", tags={\"amenity\": [\"fast_food\", \"restaurant\"]})\n",
    "food = food.centroid"
   ]
  },
  {
   "cell_type": "code",
   "execution_count": 22,
   "id": "b67e60c2",
   "metadata": {},
   "outputs": [],
   "source": [
    "bus_stops = ox.geometries_from_place(\"Philadelphia, PA\", tags={\"highway\": \"bus_stop\"})"
   ]
  },
  {
   "cell_type": "code",
   "execution_count": 23,
   "id": "adfd06d7",
   "metadata": {
    "collapsed": true
   },
   "outputs": [
    {
     "name": "stderr",
     "output_type": "stream",
     "text": [
      "D:\\Conda\\envs\\musa-550-fall-2021\\lib\\site-packages\\geopandas\\geoseries.py:583: UserWarning: Column names longer than 10 characters will be truncated when saved to ESRI Shapefile.\n",
      "  data.to_file(filename, driver, index=index, **kwargs)\n"
     ]
    },
    {
     "ename": "UnicodeDecodeError",
     "evalue": "'utf-8' codec can't decode byte 0xd5 in position 71: invalid continuation byte",
     "output_type": "error",
     "traceback": [
      "\u001b[1;31m---------------------------------------------------------------------------\u001b[0m",
      "\u001b[1;31mUnicodeDecodeError\u001b[0m                        Traceback (most recent call last)",
      "\u001b[1;31mUnicodeDecodeError\u001b[0m: 'utf-8' codec can't decode byte 0xd5 in position 71: invalid continuation byte"
     ]
    },
    {
     "name": "stderr",
     "output_type": "stream",
     "text": [
      "Exception ignored in: 'fiona._env.log_error'\n",
      "Traceback (most recent call last):\n",
      "  File \"D:\\Conda\\envs\\musa-550-fall-2021\\lib\\site-packages\\fiona\\env.py\", line 283, in defenv\n",
      "    local._env.start()\n",
      "UnicodeDecodeError: 'utf-8' codec can't decode byte 0xd5 in position 71: invalid continuation byte\n"
     ]
    },
    {
     "ename": "UnicodeDecodeError",
     "evalue": "'utf-8' codec can't decode byte 0xd5 in position 71: invalid continuation byte",
     "output_type": "error",
     "traceback": [
      "\u001b[1;31m---------------------------------------------------------------------------\u001b[0m",
      "\u001b[1;31mUnicodeDecodeError\u001b[0m                        Traceback (most recent call last)",
      "\u001b[1;31mUnicodeDecodeError\u001b[0m: 'utf-8' codec can't decode byte 0xd5 in position 71: invalid continuation byte"
     ]
    },
    {
     "name": "stderr",
     "output_type": "stream",
     "text": [
      "Exception ignored in: 'fiona._env.log_error'\n",
      "Traceback (most recent call last):\n",
      "  File \"D:\\Conda\\envs\\musa-550-fall-2021\\lib\\site-packages\\fiona\\env.py\", line 283, in defenv\n",
      "    local._env.start()\n",
      "UnicodeDecodeError: 'utf-8' codec can't decode byte 0xd5 in position 71: invalid continuation byte\n"
     ]
    },
    {
     "ename": "UnicodeDecodeError",
     "evalue": "'utf-8' codec can't decode byte 0xd5 in position 76: invalid continuation byte",
     "output_type": "error",
     "traceback": [
      "\u001b[1;31m---------------------------------------------------------------------------\u001b[0m",
      "\u001b[1;31mUnicodeDecodeError\u001b[0m                        Traceback (most recent call last)",
      "\u001b[1;31mUnicodeDecodeError\u001b[0m: 'utf-8' codec can't decode byte 0xd5 in position 76: invalid continuation byte"
     ]
    },
    {
     "name": "stderr",
     "output_type": "stream",
     "text": [
      "Exception ignored in: 'fiona._env.log_error'\n",
      "Traceback (most recent call last):\n",
      "  File \"D:\\Conda\\envs\\musa-550-fall-2021\\lib\\site-packages\\fiona\\env.py\", line 283, in defenv\n",
      "    local._env.start()\n",
      "UnicodeDecodeError: 'utf-8' codec can't decode byte 0xd5 in position 76: invalid continuation byte\n"
     ]
    },
    {
     "ename": "UnicodeDecodeError",
     "evalue": "'utf-8' codec can't decode byte 0xd5 in position 76: invalid continuation byte",
     "output_type": "error",
     "traceback": [
      "\u001b[1;31m---------------------------------------------------------------------------\u001b[0m",
      "\u001b[1;31mUnicodeDecodeError\u001b[0m                        Traceback (most recent call last)",
      "\u001b[1;31mUnicodeDecodeError\u001b[0m: 'utf-8' codec can't decode byte 0xd5 in position 76: invalid continuation byte"
     ]
    },
    {
     "name": "stderr",
     "output_type": "stream",
     "text": [
      "Exception ignored in: 'fiona._env.log_error'\n",
      "Traceback (most recent call last):\n",
      "  File \"D:\\Conda\\envs\\musa-550-fall-2021\\lib\\site-packages\\fiona\\env.py\", line 283, in defenv\n",
      "    local._env.start()\n",
      "UnicodeDecodeError: 'utf-8' codec can't decode byte 0xd5 in position 76: invalid continuation byte\n"
     ]
    },
    {
     "ename": "UnicodeDecodeError",
     "evalue": "'utf-8' codec can't decode byte 0xd5 in position 67: invalid continuation byte",
     "output_type": "error",
     "traceback": [
      "\u001b[1;31m---------------------------------------------------------------------------\u001b[0m",
      "\u001b[1;31mUnicodeDecodeError\u001b[0m                        Traceback (most recent call last)",
      "\u001b[1;31mUnicodeDecodeError\u001b[0m: 'utf-8' codec can't decode byte 0xd5 in position 67: invalid continuation byte"
     ]
    },
    {
     "name": "stderr",
     "output_type": "stream",
     "text": [
      "Exception ignored in: 'fiona._env.log_error'\n",
      "Traceback (most recent call last):\n",
      "  File \"D:\\Conda\\envs\\musa-550-fall-2021\\lib\\site-packages\\fiona\\env.py\", line 283, in defenv\n",
      "    local._env.start()\n",
      "UnicodeDecodeError: 'utf-8' codec can't decode byte 0xd5 in position 67: invalid continuation byte\n"
     ]
    },
    {
     "ename": "UnicodeDecodeError",
     "evalue": "'utf-8' codec can't decode byte 0xd5 in position 67: invalid continuation byte",
     "output_type": "error",
     "traceback": [
      "\u001b[1;31m---------------------------------------------------------------------------\u001b[0m",
      "\u001b[1;31mUnicodeDecodeError\u001b[0m                        Traceback (most recent call last)",
      "\u001b[1;31mUnicodeDecodeError\u001b[0m: 'utf-8' codec can't decode byte 0xd5 in position 67: invalid continuation byte"
     ]
    },
    {
     "name": "stderr",
     "output_type": "stream",
     "text": [
      "Exception ignored in: 'fiona._env.log_error'\n",
      "Traceback (most recent call last):\n",
      "  File \"D:\\Conda\\envs\\musa-550-fall-2021\\lib\\site-packages\\fiona\\env.py\", line 283, in defenv\n",
      "    local._env.start()\n",
      "UnicodeDecodeError: 'utf-8' codec can't decode byte 0xd5 in position 67: invalid continuation byte\n"
     ]
    },
    {
     "ename": "UnicodeDecodeError",
     "evalue": "'utf-8' codec can't decode byte 0xd5 in position 71: invalid continuation byte",
     "output_type": "error",
     "traceback": [
      "\u001b[1;31m---------------------------------------------------------------------------\u001b[0m",
      "\u001b[1;31mUnicodeDecodeError\u001b[0m                        Traceback (most recent call last)",
      "\u001b[1;31mUnicodeDecodeError\u001b[0m: 'utf-8' codec can't decode byte 0xd5 in position 71: invalid continuation byte"
     ]
    },
    {
     "name": "stderr",
     "output_type": "stream",
     "text": [
      "Exception ignored in: 'fiona._env.log_error'\n",
      "Traceback (most recent call last):\n",
      "  File \"D:\\Conda\\envs\\musa-550-fall-2021\\lib\\site-packages\\fiona\\env.py\", line 283, in defenv\n",
      "    local._env.start()\n",
      "UnicodeDecodeError: 'utf-8' codec can't decode byte 0xd5 in position 71: invalid continuation byte\n"
     ]
    },
    {
     "ename": "UnicodeDecodeError",
     "evalue": "'utf-8' codec can't decode byte 0xd5 in position 71: invalid continuation byte",
     "output_type": "error",
     "traceback": [
      "\u001b[1;31m---------------------------------------------------------------------------\u001b[0m",
      "\u001b[1;31mUnicodeDecodeError\u001b[0m                        Traceback (most recent call last)",
      "\u001b[1;31mUnicodeDecodeError\u001b[0m: 'utf-8' codec can't decode byte 0xd5 in position 71: invalid continuation byte"
     ]
    },
    {
     "name": "stderr",
     "output_type": "stream",
     "text": [
      "Exception ignored in: 'fiona._env.log_error'\n",
      "Traceback (most recent call last):\n",
      "  File \"D:\\Conda\\envs\\musa-550-fall-2021\\lib\\site-packages\\fiona\\env.py\", line 283, in defenv\n",
      "    local._env.start()\n",
      "UnicodeDecodeError: 'utf-8' codec can't decode byte 0xd5 in position 71: invalid continuation byte\n"
     ]
    },
    {
     "ename": "UnicodeDecodeError",
     "evalue": "'utf-8' codec can't decode byte 0xd5 in position 76: invalid continuation byte",
     "output_type": "error",
     "traceback": [
      "\u001b[1;31m---------------------------------------------------------------------------\u001b[0m",
      "\u001b[1;31mUnicodeDecodeError\u001b[0m                        Traceback (most recent call last)",
      "\u001b[1;31mUnicodeDecodeError\u001b[0m: 'utf-8' codec can't decode byte 0xd5 in position 76: invalid continuation byte"
     ]
    },
    {
     "name": "stderr",
     "output_type": "stream",
     "text": [
      "Exception ignored in: 'fiona._env.log_error'\n",
      "Traceback (most recent call last):\n",
      "  File \"D:\\Conda\\envs\\musa-550-fall-2021\\lib\\site-packages\\fiona\\env.py\", line 283, in defenv\n",
      "    local._env.start()\n",
      "UnicodeDecodeError: 'utf-8' codec can't decode byte 0xd5 in position 76: invalid continuation byte\n"
     ]
    },
    {
     "ename": "UnicodeDecodeError",
     "evalue": "'utf-8' codec can't decode byte 0xd5 in position 76: invalid continuation byte",
     "output_type": "error",
     "traceback": [
      "\u001b[1;31m---------------------------------------------------------------------------\u001b[0m",
      "\u001b[1;31mUnicodeDecodeError\u001b[0m                        Traceback (most recent call last)",
      "\u001b[1;31mUnicodeDecodeError\u001b[0m: 'utf-8' codec can't decode byte 0xd5 in position 76: invalid continuation byte"
     ]
    },
    {
     "name": "stderr",
     "output_type": "stream",
     "text": [
      "Exception ignored in: 'fiona._env.log_error'\n",
      "Traceback (most recent call last):\n",
      "  File \"D:\\Conda\\envs\\musa-550-fall-2021\\lib\\site-packages\\fiona\\env.py\", line 283, in defenv\n",
      "    local._env.start()\n",
      "UnicodeDecodeError: 'utf-8' codec can't decode byte 0xd5 in position 76: invalid continuation byte\n"
     ]
    },
    {
     "ename": "UnicodeDecodeError",
     "evalue": "'utf-8' codec can't decode byte 0xd5 in position 67: invalid continuation byte",
     "output_type": "error",
     "traceback": [
      "\u001b[1;31m---------------------------------------------------------------------------\u001b[0m",
      "\u001b[1;31mUnicodeDecodeError\u001b[0m                        Traceback (most recent call last)",
      "\u001b[1;31mUnicodeDecodeError\u001b[0m: 'utf-8' codec can't decode byte 0xd5 in position 67: invalid continuation byte"
     ]
    },
    {
     "name": "stderr",
     "output_type": "stream",
     "text": [
      "Exception ignored in: 'fiona._env.log_error'\n",
      "Traceback (most recent call last):\n",
      "  File \"D:\\Conda\\envs\\musa-550-fall-2021\\lib\\site-packages\\fiona\\env.py\", line 283, in defenv\n",
      "    local._env.start()\n",
      "UnicodeDecodeError: 'utf-8' codec can't decode byte 0xd5 in position 67: invalid continuation byte\n"
     ]
    },
    {
     "ename": "UnicodeDecodeError",
     "evalue": "'utf-8' codec can't decode byte 0xd5 in position 67: invalid continuation byte",
     "output_type": "error",
     "traceback": [
      "\u001b[1;31m---------------------------------------------------------------------------\u001b[0m",
      "\u001b[1;31mUnicodeDecodeError\u001b[0m                        Traceback (most recent call last)",
      "\u001b[1;31mUnicodeDecodeError\u001b[0m: 'utf-8' codec can't decode byte 0xd5 in position 67: invalid continuation byte"
     ]
    },
    {
     "name": "stderr",
     "output_type": "stream",
     "text": [
      "Exception ignored in: 'fiona._env.log_error'\n",
      "Traceback (most recent call last):\n",
      "  File \"D:\\Conda\\envs\\musa-550-fall-2021\\lib\\site-packages\\fiona\\env.py\", line 283, in defenv\n",
      "    local._env.start()\n",
      "UnicodeDecodeError: 'utf-8' codec can't decode byte 0xd5 in position 67: invalid continuation byte\n"
     ]
    },
    {
     "ename": "UnicodeDecodeError",
     "evalue": "'utf-8' codec can't decode byte 0xd5 in position 71: invalid continuation byte",
     "output_type": "error",
     "traceback": [
      "\u001b[1;31m---------------------------------------------------------------------------\u001b[0m",
      "\u001b[1;31mUnicodeDecodeError\u001b[0m                        Traceback (most recent call last)",
      "\u001b[1;31mUnicodeDecodeError\u001b[0m: 'utf-8' codec can't decode byte 0xd5 in position 71: invalid continuation byte"
     ]
    },
    {
     "name": "stderr",
     "output_type": "stream",
     "text": [
      "Exception ignored in: 'fiona._env.log_error'\n",
      "Traceback (most recent call last):\n",
      "  File \"D:\\Conda\\envs\\musa-550-fall-2021\\lib\\site-packages\\fiona\\env.py\", line 283, in defenv\n",
      "    local._env.start()\n",
      "UnicodeDecodeError: 'utf-8' codec can't decode byte 0xd5 in position 71: invalid continuation byte\n"
     ]
    },
    {
     "ename": "UnicodeDecodeError",
     "evalue": "'utf-8' codec can't decode byte 0xd5 in position 71: invalid continuation byte",
     "output_type": "error",
     "traceback": [
      "\u001b[1;31m---------------------------------------------------------------------------\u001b[0m",
      "\u001b[1;31mUnicodeDecodeError\u001b[0m                        Traceback (most recent call last)",
      "\u001b[1;31mUnicodeDecodeError\u001b[0m: 'utf-8' codec can't decode byte 0xd5 in position 71: invalid continuation byte"
     ]
    },
    {
     "name": "stderr",
     "output_type": "stream",
     "text": [
      "Exception ignored in: 'fiona._env.log_error'\n",
      "Traceback (most recent call last):\n",
      "  File \"D:\\Conda\\envs\\musa-550-fall-2021\\lib\\site-packages\\fiona\\env.py\", line 283, in defenv\n",
      "    local._env.start()\n",
      "UnicodeDecodeError: 'utf-8' codec can't decode byte 0xd5 in position 71: invalid continuation byte\n"
     ]
    },
    {
     "ename": "UnicodeDecodeError",
     "evalue": "'utf-8' codec can't decode byte 0xd5 in position 76: invalid continuation byte",
     "output_type": "error",
     "traceback": [
      "\u001b[1;31m---------------------------------------------------------------------------\u001b[0m",
      "\u001b[1;31mUnicodeDecodeError\u001b[0m                        Traceback (most recent call last)",
      "\u001b[1;31mUnicodeDecodeError\u001b[0m: 'utf-8' codec can't decode byte 0xd5 in position 76: invalid continuation byte"
     ]
    },
    {
     "name": "stderr",
     "output_type": "stream",
     "text": [
      "Exception ignored in: 'fiona._env.log_error'\n",
      "Traceback (most recent call last):\n",
      "  File \"D:\\Conda\\envs\\musa-550-fall-2021\\lib\\site-packages\\fiona\\env.py\", line 283, in defenv\n",
      "    local._env.start()\n",
      "UnicodeDecodeError: 'utf-8' codec can't decode byte 0xd5 in position 76: invalid continuation byte\n"
     ]
    },
    {
     "ename": "UnicodeDecodeError",
     "evalue": "'utf-8' codec can't decode byte 0xd5 in position 76: invalid continuation byte",
     "output_type": "error",
     "traceback": [
      "\u001b[1;31m---------------------------------------------------------------------------\u001b[0m",
      "\u001b[1;31mUnicodeDecodeError\u001b[0m                        Traceback (most recent call last)",
      "\u001b[1;31mUnicodeDecodeError\u001b[0m: 'utf-8' codec can't decode byte 0xd5 in position 76: invalid continuation byte"
     ]
    },
    {
     "name": "stderr",
     "output_type": "stream",
     "text": [
      "Exception ignored in: 'fiona._env.log_error'\n",
      "Traceback (most recent call last):\n",
      "  File \"D:\\Conda\\envs\\musa-550-fall-2021\\lib\\site-packages\\fiona\\env.py\", line 283, in defenv\n",
      "    local._env.start()\n",
      "UnicodeDecodeError: 'utf-8' codec can't decode byte 0xd5 in position 76: invalid continuation byte\n"
     ]
    },
    {
     "ename": "UnicodeDecodeError",
     "evalue": "'utf-8' codec can't decode byte 0xd5 in position 67: invalid continuation byte",
     "output_type": "error",
     "traceback": [
      "\u001b[1;31m---------------------------------------------------------------------------\u001b[0m",
      "\u001b[1;31mUnicodeDecodeError\u001b[0m                        Traceback (most recent call last)",
      "\u001b[1;31mUnicodeDecodeError\u001b[0m: 'utf-8' codec can't decode byte 0xd5 in position 67: invalid continuation byte"
     ]
    },
    {
     "name": "stderr",
     "output_type": "stream",
     "text": [
      "Exception ignored in: 'fiona._env.log_error'\n",
      "Traceback (most recent call last):\n",
      "  File \"D:\\Conda\\envs\\musa-550-fall-2021\\lib\\site-packages\\fiona\\env.py\", line 283, in defenv\n",
      "    local._env.start()\n",
      "UnicodeDecodeError: 'utf-8' codec can't decode byte 0xd5 in position 67: invalid continuation byte\n"
     ]
    },
    {
     "ename": "UnicodeDecodeError",
     "evalue": "'utf-8' codec can't decode byte 0xd5 in position 67: invalid continuation byte",
     "output_type": "error",
     "traceback": [
      "\u001b[1;31m---------------------------------------------------------------------------\u001b[0m",
      "\u001b[1;31mUnicodeDecodeError\u001b[0m                        Traceback (most recent call last)",
      "\u001b[1;31mUnicodeDecodeError\u001b[0m: 'utf-8' codec can't decode byte 0xd5 in position 67: invalid continuation byte"
     ]
    },
    {
     "name": "stderr",
     "output_type": "stream",
     "text": [
      "Exception ignored in: 'fiona._env.log_error'\n",
      "Traceback (most recent call last):\n",
      "  File \"D:\\Conda\\envs\\musa-550-fall-2021\\lib\\site-packages\\fiona\\env.py\", line 283, in defenv\n",
      "    local._env.start()\n",
      "UnicodeDecodeError: 'utf-8' codec can't decode byte 0xd5 in position 67: invalid continuation byte\n"
     ]
    },
    {
     "ename": "UnicodeDecodeError",
     "evalue": "'utf-8' codec can't decode byte 0xd5 in position 71: invalid continuation byte",
     "output_type": "error",
     "traceback": [
      "\u001b[1;31m---------------------------------------------------------------------------\u001b[0m",
      "\u001b[1;31mUnicodeDecodeError\u001b[0m                        Traceback (most recent call last)",
      "\u001b[1;31mUnicodeDecodeError\u001b[0m: 'utf-8' codec can't decode byte 0xd5 in position 71: invalid continuation byte"
     ]
    },
    {
     "name": "stderr",
     "output_type": "stream",
     "text": [
      "Exception ignored in: 'fiona._env.log_error'\n",
      "Traceback (most recent call last):\n",
      "  File \"D:\\Conda\\envs\\musa-550-fall-2021\\lib\\site-packages\\fiona\\env.py\", line 283, in defenv\n",
      "    local._env.start()\n",
      "UnicodeDecodeError: 'utf-8' codec can't decode byte 0xd5 in position 71: invalid continuation byte\n"
     ]
    },
    {
     "ename": "UnicodeDecodeError",
     "evalue": "'utf-8' codec can't decode byte 0xd5 in position 71: invalid continuation byte",
     "output_type": "error",
     "traceback": [
      "\u001b[1;31m---------------------------------------------------------------------------\u001b[0m",
      "\u001b[1;31mUnicodeDecodeError\u001b[0m                        Traceback (most recent call last)",
      "\u001b[1;31mUnicodeDecodeError\u001b[0m: 'utf-8' codec can't decode byte 0xd5 in position 71: invalid continuation byte"
     ]
    },
    {
     "name": "stderr",
     "output_type": "stream",
     "text": [
      "Exception ignored in: 'fiona._env.log_error'\n",
      "Traceback (most recent call last):\n",
      "  File \"D:\\Conda\\envs\\musa-550-fall-2021\\lib\\site-packages\\fiona\\env.py\", line 283, in defenv\n",
      "    local._env.start()\n",
      "UnicodeDecodeError: 'utf-8' codec can't decode byte 0xd5 in position 71: invalid continuation byte\n"
     ]
    },
    {
     "ename": "UnicodeDecodeError",
     "evalue": "'utf-8' codec can't decode byte 0xd5 in position 76: invalid continuation byte",
     "output_type": "error",
     "traceback": [
      "\u001b[1;31m---------------------------------------------------------------------------\u001b[0m",
      "\u001b[1;31mUnicodeDecodeError\u001b[0m                        Traceback (most recent call last)",
      "\u001b[1;31mUnicodeDecodeError\u001b[0m: 'utf-8' codec can't decode byte 0xd5 in position 76: invalid continuation byte"
     ]
    },
    {
     "name": "stderr",
     "output_type": "stream",
     "text": [
      "Exception ignored in: 'fiona._env.log_error'\n",
      "Traceback (most recent call last):\n",
      "  File \"D:\\Conda\\envs\\musa-550-fall-2021\\lib\\site-packages\\fiona\\env.py\", line 283, in defenv\n",
      "    local._env.start()\n",
      "UnicodeDecodeError: 'utf-8' codec can't decode byte 0xd5 in position 76: invalid continuation byte\n"
     ]
    },
    {
     "ename": "UnicodeDecodeError",
     "evalue": "'utf-8' codec can't decode byte 0xd5 in position 76: invalid continuation byte",
     "output_type": "error",
     "traceback": [
      "\u001b[1;31m---------------------------------------------------------------------------\u001b[0m",
      "\u001b[1;31mUnicodeDecodeError\u001b[0m                        Traceback (most recent call last)",
      "\u001b[1;31mUnicodeDecodeError\u001b[0m: 'utf-8' codec can't decode byte 0xd5 in position 76: invalid continuation byte"
     ]
    },
    {
     "name": "stderr",
     "output_type": "stream",
     "text": [
      "Exception ignored in: 'fiona._env.log_error'\n",
      "Traceback (most recent call last):\n",
      "  File \"D:\\Conda\\envs\\musa-550-fall-2021\\lib\\site-packages\\fiona\\env.py\", line 283, in defenv\n",
      "    local._env.start()\n",
      "UnicodeDecodeError: 'utf-8' codec can't decode byte 0xd5 in position 76: invalid continuation byte\n"
     ]
    },
    {
     "ename": "UnicodeDecodeError",
     "evalue": "'utf-8' codec can't decode byte 0xd5 in position 67: invalid continuation byte",
     "output_type": "error",
     "traceback": [
      "\u001b[1;31m---------------------------------------------------------------------------\u001b[0m",
      "\u001b[1;31mUnicodeDecodeError\u001b[0m                        Traceback (most recent call last)",
      "\u001b[1;31mUnicodeDecodeError\u001b[0m: 'utf-8' codec can't decode byte 0xd5 in position 67: invalid continuation byte"
     ]
    },
    {
     "name": "stderr",
     "output_type": "stream",
     "text": [
      "Exception ignored in: 'fiona._env.log_error'\n",
      "Traceback (most recent call last):\n",
      "  File \"D:\\Conda\\envs\\musa-550-fall-2021\\lib\\site-packages\\fiona\\env.py\", line 283, in defenv\n",
      "    local._env.start()\n",
      "UnicodeDecodeError: 'utf-8' codec can't decode byte 0xd5 in position 67: invalid continuation byte\n"
     ]
    },
    {
     "ename": "UnicodeDecodeError",
     "evalue": "'utf-8' codec can't decode byte 0xd5 in position 67: invalid continuation byte",
     "output_type": "error",
     "traceback": [
      "\u001b[1;31m---------------------------------------------------------------------------\u001b[0m",
      "\u001b[1;31mUnicodeDecodeError\u001b[0m                        Traceback (most recent call last)",
      "\u001b[1;31mUnicodeDecodeError\u001b[0m: 'utf-8' codec can't decode byte 0xd5 in position 67: invalid continuation byte"
     ]
    },
    {
     "name": "stderr",
     "output_type": "stream",
     "text": [
      "Exception ignored in: 'fiona._env.log_error'\n",
      "Traceback (most recent call last):\n",
      "  File \"D:\\Conda\\envs\\musa-550-fall-2021\\lib\\site-packages\\fiona\\env.py\", line 283, in defenv\n",
      "    local._env.start()\n",
      "UnicodeDecodeError: 'utf-8' codec can't decode byte 0xd5 in position 67: invalid continuation byte\n",
      "D:\\Conda\\envs\\musa-550-fall-2021\\lib\\site-packages\\geopandas\\geoseries.py:583: UserWarning: Column names longer than 10 characters will be truncated when saved to ESRI Shapefile.\n",
      "  data.to_file(filename, driver, index=index, **kwargs)\n"
     ]
    },
    {
     "ename": "UnicodeDecodeError",
     "evalue": "'utf-8' codec can't decode byte 0xd5 in position 71: invalid continuation byte",
     "output_type": "error",
     "traceback": [
      "\u001b[1;31m---------------------------------------------------------------------------\u001b[0m",
      "\u001b[1;31mUnicodeDecodeError\u001b[0m                        Traceback (most recent call last)",
      "\u001b[1;31mUnicodeDecodeError\u001b[0m: 'utf-8' codec can't decode byte 0xd5 in position 71: invalid continuation byte"
     ]
    },
    {
     "name": "stderr",
     "output_type": "stream",
     "text": [
      "Exception ignored in: 'fiona._env.log_error'\n",
      "Traceback (most recent call last):\n",
      "  File \"D:\\Conda\\envs\\musa-550-fall-2021\\lib\\site-packages\\fiona\\env.py\", line 283, in defenv\n",
      "    local._env.start()\n",
      "UnicodeDecodeError: 'utf-8' codec can't decode byte 0xd5 in position 71: invalid continuation byte\n"
     ]
    },
    {
     "ename": "UnicodeDecodeError",
     "evalue": "'utf-8' codec can't decode byte 0xd5 in position 71: invalid continuation byte",
     "output_type": "error",
     "traceback": [
      "\u001b[1;31m---------------------------------------------------------------------------\u001b[0m",
      "\u001b[1;31mUnicodeDecodeError\u001b[0m                        Traceback (most recent call last)",
      "\u001b[1;31mUnicodeDecodeError\u001b[0m: 'utf-8' codec can't decode byte 0xd5 in position 71: invalid continuation byte"
     ]
    },
    {
     "name": "stderr",
     "output_type": "stream",
     "text": [
      "Exception ignored in: 'fiona._env.log_error'\n",
      "Traceback (most recent call last):\n",
      "  File \"D:\\Conda\\envs\\musa-550-fall-2021\\lib\\site-packages\\fiona\\env.py\", line 283, in defenv\n",
      "    local._env.start()\n",
      "UnicodeDecodeError: 'utf-8' codec can't decode byte 0xd5 in position 71: invalid continuation byte\n"
     ]
    },
    {
     "ename": "UnicodeDecodeError",
     "evalue": "'utf-8' codec can't decode byte 0xd5 in position 76: invalid continuation byte",
     "output_type": "error",
     "traceback": [
      "\u001b[1;31m---------------------------------------------------------------------------\u001b[0m",
      "\u001b[1;31mUnicodeDecodeError\u001b[0m                        Traceback (most recent call last)",
      "\u001b[1;31mUnicodeDecodeError\u001b[0m: 'utf-8' codec can't decode byte 0xd5 in position 76: invalid continuation byte"
     ]
    },
    {
     "name": "stderr",
     "output_type": "stream",
     "text": [
      "Exception ignored in: 'fiona._env.log_error'\n",
      "Traceback (most recent call last):\n",
      "  File \"D:\\Conda\\envs\\musa-550-fall-2021\\lib\\site-packages\\fiona\\env.py\", line 283, in defenv\n",
      "    local._env.start()\n",
      "UnicodeDecodeError: 'utf-8' codec can't decode byte 0xd5 in position 76: invalid continuation byte\n"
     ]
    },
    {
     "ename": "UnicodeDecodeError",
     "evalue": "'utf-8' codec can't decode byte 0xd5 in position 76: invalid continuation byte",
     "output_type": "error",
     "traceback": [
      "\u001b[1;31m---------------------------------------------------------------------------\u001b[0m",
      "\u001b[1;31mUnicodeDecodeError\u001b[0m                        Traceback (most recent call last)",
      "\u001b[1;31mUnicodeDecodeError\u001b[0m: 'utf-8' codec can't decode byte 0xd5 in position 76: invalid continuation byte"
     ]
    },
    {
     "name": "stderr",
     "output_type": "stream",
     "text": [
      "Exception ignored in: 'fiona._env.log_error'\n",
      "Traceback (most recent call last):\n",
      "  File \"D:\\Conda\\envs\\musa-550-fall-2021\\lib\\site-packages\\fiona\\env.py\", line 283, in defenv\n",
      "    local._env.start()\n",
      "UnicodeDecodeError: 'utf-8' codec can't decode byte 0xd5 in position 76: invalid continuation byte\n"
     ]
    },
    {
     "ename": "UnicodeDecodeError",
     "evalue": "'utf-8' codec can't decode byte 0xd5 in position 67: invalid continuation byte",
     "output_type": "error",
     "traceback": [
      "\u001b[1;31m---------------------------------------------------------------------------\u001b[0m",
      "\u001b[1;31mUnicodeDecodeError\u001b[0m                        Traceback (most recent call last)",
      "\u001b[1;31mUnicodeDecodeError\u001b[0m: 'utf-8' codec can't decode byte 0xd5 in position 67: invalid continuation byte"
     ]
    },
    {
     "name": "stderr",
     "output_type": "stream",
     "text": [
      "Exception ignored in: 'fiona._env.log_error'\n",
      "Traceback (most recent call last):\n",
      "  File \"D:\\Conda\\envs\\musa-550-fall-2021\\lib\\site-packages\\fiona\\env.py\", line 283, in defenv\n",
      "    local._env.start()\n",
      "UnicodeDecodeError: 'utf-8' codec can't decode byte 0xd5 in position 67: invalid continuation byte\n"
     ]
    },
    {
     "ename": "UnicodeDecodeError",
     "evalue": "'utf-8' codec can't decode byte 0xd5 in position 67: invalid continuation byte",
     "output_type": "error",
     "traceback": [
      "\u001b[1;31m---------------------------------------------------------------------------\u001b[0m",
      "\u001b[1;31mUnicodeDecodeError\u001b[0m                        Traceback (most recent call last)",
      "\u001b[1;31mUnicodeDecodeError\u001b[0m: 'utf-8' codec can't decode byte 0xd5 in position 67: invalid continuation byte"
     ]
    },
    {
     "name": "stderr",
     "output_type": "stream",
     "text": [
      "Exception ignored in: 'fiona._env.log_error'\n",
      "Traceback (most recent call last):\n",
      "  File \"D:\\Conda\\envs\\musa-550-fall-2021\\lib\\site-packages\\fiona\\env.py\", line 283, in defenv\n",
      "    local._env.start()\n",
      "UnicodeDecodeError: 'utf-8' codec can't decode byte 0xd5 in position 67: invalid continuation byte\n"
     ]
    },
    {
     "ename": "UnicodeDecodeError",
     "evalue": "'utf-8' codec can't decode byte 0xd5 in position 71: invalid continuation byte",
     "output_type": "error",
     "traceback": [
      "\u001b[1;31m---------------------------------------------------------------------------\u001b[0m",
      "\u001b[1;31mUnicodeDecodeError\u001b[0m                        Traceback (most recent call last)",
      "\u001b[1;31mUnicodeDecodeError\u001b[0m: 'utf-8' codec can't decode byte 0xd5 in position 71: invalid continuation byte"
     ]
    },
    {
     "name": "stderr",
     "output_type": "stream",
     "text": [
      "Exception ignored in: 'fiona._env.log_error'\n",
      "Traceback (most recent call last):\n",
      "  File \"D:\\Conda\\envs\\musa-550-fall-2021\\lib\\site-packages\\fiona\\env.py\", line 283, in defenv\n",
      "    local._env.start()\n",
      "UnicodeDecodeError: 'utf-8' codec can't decode byte 0xd5 in position 71: invalid continuation byte\n"
     ]
    },
    {
     "ename": "UnicodeDecodeError",
     "evalue": "'utf-8' codec can't decode byte 0xd5 in position 71: invalid continuation byte",
     "output_type": "error",
     "traceback": [
      "\u001b[1;31m---------------------------------------------------------------------------\u001b[0m",
      "\u001b[1;31mUnicodeDecodeError\u001b[0m                        Traceback (most recent call last)",
      "\u001b[1;31mUnicodeDecodeError\u001b[0m: 'utf-8' codec can't decode byte 0xd5 in position 71: invalid continuation byte"
     ]
    },
    {
     "name": "stderr",
     "output_type": "stream",
     "text": [
      "Exception ignored in: 'fiona._env.log_error'\n",
      "Traceback (most recent call last):\n",
      "  File \"D:\\Conda\\envs\\musa-550-fall-2021\\lib\\site-packages\\fiona\\env.py\", line 283, in defenv\n",
      "    local._env.start()\n",
      "UnicodeDecodeError: 'utf-8' codec can't decode byte 0xd5 in position 71: invalid continuation byte\n"
     ]
    },
    {
     "ename": "UnicodeDecodeError",
     "evalue": "'utf-8' codec can't decode byte 0xd5 in position 76: invalid continuation byte",
     "output_type": "error",
     "traceback": [
      "\u001b[1;31m---------------------------------------------------------------------------\u001b[0m",
      "\u001b[1;31mUnicodeDecodeError\u001b[0m                        Traceback (most recent call last)",
      "\u001b[1;31mUnicodeDecodeError\u001b[0m: 'utf-8' codec can't decode byte 0xd5 in position 76: invalid continuation byte"
     ]
    },
    {
     "name": "stderr",
     "output_type": "stream",
     "text": [
      "Exception ignored in: 'fiona._env.log_error'\n",
      "Traceback (most recent call last):\n",
      "  File \"D:\\Conda\\envs\\musa-550-fall-2021\\lib\\site-packages\\fiona\\env.py\", line 283, in defenv\n",
      "    local._env.start()\n",
      "UnicodeDecodeError: 'utf-8' codec can't decode byte 0xd5 in position 76: invalid continuation byte\n"
     ]
    },
    {
     "ename": "UnicodeDecodeError",
     "evalue": "'utf-8' codec can't decode byte 0xd5 in position 76: invalid continuation byte",
     "output_type": "error",
     "traceback": [
      "\u001b[1;31m---------------------------------------------------------------------------\u001b[0m",
      "\u001b[1;31mUnicodeDecodeError\u001b[0m                        Traceback (most recent call last)",
      "\u001b[1;31mUnicodeDecodeError\u001b[0m: 'utf-8' codec can't decode byte 0xd5 in position 76: invalid continuation byte"
     ]
    },
    {
     "name": "stderr",
     "output_type": "stream",
     "text": [
      "Exception ignored in: 'fiona._env.log_error'\n",
      "Traceback (most recent call last):\n",
      "  File \"D:\\Conda\\envs\\musa-550-fall-2021\\lib\\site-packages\\fiona\\env.py\", line 283, in defenv\n",
      "    local._env.start()\n",
      "UnicodeDecodeError: 'utf-8' codec can't decode byte 0xd5 in position 76: invalid continuation byte\n"
     ]
    },
    {
     "ename": "UnicodeDecodeError",
     "evalue": "'utf-8' codec can't decode byte 0xd5 in position 67: invalid continuation byte",
     "output_type": "error",
     "traceback": [
      "\u001b[1;31m---------------------------------------------------------------------------\u001b[0m",
      "\u001b[1;31mUnicodeDecodeError\u001b[0m                        Traceback (most recent call last)",
      "\u001b[1;31mUnicodeDecodeError\u001b[0m: 'utf-8' codec can't decode byte 0xd5 in position 67: invalid continuation byte"
     ]
    },
    {
     "name": "stderr",
     "output_type": "stream",
     "text": [
      "Exception ignored in: 'fiona._env.log_error'\n",
      "Traceback (most recent call last):\n",
      "  File \"D:\\Conda\\envs\\musa-550-fall-2021\\lib\\site-packages\\fiona\\env.py\", line 283, in defenv\n",
      "    local._env.start()\n",
      "UnicodeDecodeError: 'utf-8' codec can't decode byte 0xd5 in position 67: invalid continuation byte\n"
     ]
    },
    {
     "ename": "UnicodeDecodeError",
     "evalue": "'utf-8' codec can't decode byte 0xd5 in position 67: invalid continuation byte",
     "output_type": "error",
     "traceback": [
      "\u001b[1;31m---------------------------------------------------------------------------\u001b[0m",
      "\u001b[1;31mUnicodeDecodeError\u001b[0m                        Traceback (most recent call last)",
      "\u001b[1;31mUnicodeDecodeError\u001b[0m: 'utf-8' codec can't decode byte 0xd5 in position 67: invalid continuation byte"
     ]
    },
    {
     "name": "stderr",
     "output_type": "stream",
     "text": [
      "Exception ignored in: 'fiona._env.log_error'\n",
      "Traceback (most recent call last):\n",
      "  File \"D:\\Conda\\envs\\musa-550-fall-2021\\lib\\site-packages\\fiona\\env.py\", line 283, in defenv\n",
      "    local._env.start()\n",
      "UnicodeDecodeError: 'utf-8' codec can't decode byte 0xd5 in position 67: invalid continuation byte\n"
     ]
    },
    {
     "ename": "UnicodeDecodeError",
     "evalue": "'utf-8' codec can't decode byte 0xd5 in position 71: invalid continuation byte",
     "output_type": "error",
     "traceback": [
      "\u001b[1;31m---------------------------------------------------------------------------\u001b[0m",
      "\u001b[1;31mUnicodeDecodeError\u001b[0m                        Traceback (most recent call last)",
      "\u001b[1;31mUnicodeDecodeError\u001b[0m: 'utf-8' codec can't decode byte 0xd5 in position 71: invalid continuation byte"
     ]
    },
    {
     "name": "stderr",
     "output_type": "stream",
     "text": [
      "Exception ignored in: 'fiona._env.log_error'\n",
      "Traceback (most recent call last):\n",
      "  File \"D:\\Conda\\envs\\musa-550-fall-2021\\lib\\site-packages\\fiona\\env.py\", line 283, in defenv\n",
      "    local._env.start()\n",
      "UnicodeDecodeError: 'utf-8' codec can't decode byte 0xd5 in position 71: invalid continuation byte\n"
     ]
    },
    {
     "ename": "UnicodeDecodeError",
     "evalue": "'utf-8' codec can't decode byte 0xd5 in position 71: invalid continuation byte",
     "output_type": "error",
     "traceback": [
      "\u001b[1;31m---------------------------------------------------------------------------\u001b[0m",
      "\u001b[1;31mUnicodeDecodeError\u001b[0m                        Traceback (most recent call last)",
      "\u001b[1;31mUnicodeDecodeError\u001b[0m: 'utf-8' codec can't decode byte 0xd5 in position 71: invalid continuation byte"
     ]
    },
    {
     "name": "stderr",
     "output_type": "stream",
     "text": [
      "Exception ignored in: 'fiona._env.log_error'\n",
      "Traceback (most recent call last):\n",
      "  File \"D:\\Conda\\envs\\musa-550-fall-2021\\lib\\site-packages\\fiona\\env.py\", line 283, in defenv\n",
      "    local._env.start()\n",
      "UnicodeDecodeError: 'utf-8' codec can't decode byte 0xd5 in position 71: invalid continuation byte\n"
     ]
    },
    {
     "ename": "UnicodeDecodeError",
     "evalue": "'utf-8' codec can't decode byte 0xd5 in position 76: invalid continuation byte",
     "output_type": "error",
     "traceback": [
      "\u001b[1;31m---------------------------------------------------------------------------\u001b[0m",
      "\u001b[1;31mUnicodeDecodeError\u001b[0m                        Traceback (most recent call last)",
      "\u001b[1;31mUnicodeDecodeError\u001b[0m: 'utf-8' codec can't decode byte 0xd5 in position 76: invalid continuation byte"
     ]
    },
    {
     "name": "stderr",
     "output_type": "stream",
     "text": [
      "Exception ignored in: 'fiona._env.log_error'\n",
      "Traceback (most recent call last):\n",
      "  File \"D:\\Conda\\envs\\musa-550-fall-2021\\lib\\site-packages\\fiona\\env.py\", line 283, in defenv\n",
      "    local._env.start()\n",
      "UnicodeDecodeError: 'utf-8' codec can't decode byte 0xd5 in position 76: invalid continuation byte\n"
     ]
    },
    {
     "ename": "UnicodeDecodeError",
     "evalue": "'utf-8' codec can't decode byte 0xd5 in position 76: invalid continuation byte",
     "output_type": "error",
     "traceback": [
      "\u001b[1;31m---------------------------------------------------------------------------\u001b[0m",
      "\u001b[1;31mUnicodeDecodeError\u001b[0m                        Traceback (most recent call last)",
      "\u001b[1;31mUnicodeDecodeError\u001b[0m: 'utf-8' codec can't decode byte 0xd5 in position 76: invalid continuation byte"
     ]
    },
    {
     "name": "stderr",
     "output_type": "stream",
     "text": [
      "Exception ignored in: 'fiona._env.log_error'\n",
      "Traceback (most recent call last):\n",
      "  File \"D:\\Conda\\envs\\musa-550-fall-2021\\lib\\site-packages\\fiona\\env.py\", line 283, in defenv\n",
      "    local._env.start()\n",
      "UnicodeDecodeError: 'utf-8' codec can't decode byte 0xd5 in position 76: invalid continuation byte\n"
     ]
    },
    {
     "ename": "UnicodeDecodeError",
     "evalue": "'utf-8' codec can't decode byte 0xd5 in position 67: invalid continuation byte",
     "output_type": "error",
     "traceback": [
      "\u001b[1;31m---------------------------------------------------------------------------\u001b[0m",
      "\u001b[1;31mUnicodeDecodeError\u001b[0m                        Traceback (most recent call last)",
      "\u001b[1;31mUnicodeDecodeError\u001b[0m: 'utf-8' codec can't decode byte 0xd5 in position 67: invalid continuation byte"
     ]
    },
    {
     "name": "stderr",
     "output_type": "stream",
     "text": [
      "Exception ignored in: 'fiona._env.log_error'\n",
      "Traceback (most recent call last):\n",
      "  File \"D:\\Conda\\envs\\musa-550-fall-2021\\lib\\site-packages\\fiona\\env.py\", line 283, in defenv\n",
      "    local._env.start()\n",
      "UnicodeDecodeError: 'utf-8' codec can't decode byte 0xd5 in position 67: invalid continuation byte\n"
     ]
    },
    {
     "ename": "UnicodeDecodeError",
     "evalue": "'utf-8' codec can't decode byte 0xd5 in position 67: invalid continuation byte",
     "output_type": "error",
     "traceback": [
      "\u001b[1;31m---------------------------------------------------------------------------\u001b[0m",
      "\u001b[1;31mUnicodeDecodeError\u001b[0m                        Traceback (most recent call last)",
      "\u001b[1;31mUnicodeDecodeError\u001b[0m: 'utf-8' codec can't decode byte 0xd5 in position 67: invalid continuation byte"
     ]
    },
    {
     "name": "stderr",
     "output_type": "stream",
     "text": [
      "Exception ignored in: 'fiona._env.log_error'\n",
      "Traceback (most recent call last):\n",
      "  File \"D:\\Conda\\envs\\musa-550-fall-2021\\lib\\site-packages\\fiona\\env.py\", line 283, in defenv\n",
      "    local._env.start()\n",
      "UnicodeDecodeError: 'utf-8' codec can't decode byte 0xd5 in position 67: invalid continuation byte\n"
     ]
    },
    {
     "ename": "UnicodeDecodeError",
     "evalue": "'utf-8' codec can't decode byte 0xd5 in position 71: invalid continuation byte",
     "output_type": "error",
     "traceback": [
      "\u001b[1;31m---------------------------------------------------------------------------\u001b[0m",
      "\u001b[1;31mUnicodeDecodeError\u001b[0m                        Traceback (most recent call last)",
      "\u001b[1;31mUnicodeDecodeError\u001b[0m: 'utf-8' codec can't decode byte 0xd5 in position 71: invalid continuation byte"
     ]
    },
    {
     "name": "stderr",
     "output_type": "stream",
     "text": [
      "Exception ignored in: 'fiona._env.log_error'\n",
      "Traceback (most recent call last):\n",
      "  File \"D:\\Conda\\envs\\musa-550-fall-2021\\lib\\site-packages\\fiona\\env.py\", line 283, in defenv\n",
      "    local._env.start()\n",
      "UnicodeDecodeError: 'utf-8' codec can't decode byte 0xd5 in position 71: invalid continuation byte\n"
     ]
    },
    {
     "ename": "UnicodeDecodeError",
     "evalue": "'utf-8' codec can't decode byte 0xd5 in position 71: invalid continuation byte",
     "output_type": "error",
     "traceback": [
      "\u001b[1;31m---------------------------------------------------------------------------\u001b[0m",
      "\u001b[1;31mUnicodeDecodeError\u001b[0m                        Traceback (most recent call last)",
      "\u001b[1;31mUnicodeDecodeError\u001b[0m: 'utf-8' codec can't decode byte 0xd5 in position 71: invalid continuation byte"
     ]
    },
    {
     "name": "stderr",
     "output_type": "stream",
     "text": [
      "Exception ignored in: 'fiona._env.log_error'\n",
      "Traceback (most recent call last):\n",
      "  File \"D:\\Conda\\envs\\musa-550-fall-2021\\lib\\site-packages\\fiona\\env.py\", line 283, in defenv\n",
      "    local._env.start()\n",
      "UnicodeDecodeError: 'utf-8' codec can't decode byte 0xd5 in position 71: invalid continuation byte\n"
     ]
    },
    {
     "ename": "UnicodeDecodeError",
     "evalue": "'utf-8' codec can't decode byte 0xd5 in position 76: invalid continuation byte",
     "output_type": "error",
     "traceback": [
      "\u001b[1;31m---------------------------------------------------------------------------\u001b[0m",
      "\u001b[1;31mUnicodeDecodeError\u001b[0m                        Traceback (most recent call last)",
      "\u001b[1;31mUnicodeDecodeError\u001b[0m: 'utf-8' codec can't decode byte 0xd5 in position 76: invalid continuation byte"
     ]
    },
    {
     "name": "stderr",
     "output_type": "stream",
     "text": [
      "Exception ignored in: 'fiona._env.log_error'\n",
      "Traceback (most recent call last):\n",
      "  File \"D:\\Conda\\envs\\musa-550-fall-2021\\lib\\site-packages\\fiona\\env.py\", line 283, in defenv\n",
      "    local._env.start()\n",
      "UnicodeDecodeError: 'utf-8' codec can't decode byte 0xd5 in position 76: invalid continuation byte\n"
     ]
    },
    {
     "ename": "UnicodeDecodeError",
     "evalue": "'utf-8' codec can't decode byte 0xd5 in position 76: invalid continuation byte",
     "output_type": "error",
     "traceback": [
      "\u001b[1;31m---------------------------------------------------------------------------\u001b[0m",
      "\u001b[1;31mUnicodeDecodeError\u001b[0m                        Traceback (most recent call last)",
      "\u001b[1;31mUnicodeDecodeError\u001b[0m: 'utf-8' codec can't decode byte 0xd5 in position 76: invalid continuation byte"
     ]
    },
    {
     "name": "stderr",
     "output_type": "stream",
     "text": [
      "Exception ignored in: 'fiona._env.log_error'\n",
      "Traceback (most recent call last):\n",
      "  File \"D:\\Conda\\envs\\musa-550-fall-2021\\lib\\site-packages\\fiona\\env.py\", line 283, in defenv\n",
      "    local._env.start()\n",
      "UnicodeDecodeError: 'utf-8' codec can't decode byte 0xd5 in position 76: invalid continuation byte\n"
     ]
    },
    {
     "ename": "UnicodeDecodeError",
     "evalue": "'utf-8' codec can't decode byte 0xd5 in position 67: invalid continuation byte",
     "output_type": "error",
     "traceback": [
      "\u001b[1;31m---------------------------------------------------------------------------\u001b[0m",
      "\u001b[1;31mUnicodeDecodeError\u001b[0m                        Traceback (most recent call last)",
      "\u001b[1;31mUnicodeDecodeError\u001b[0m: 'utf-8' codec can't decode byte 0xd5 in position 67: invalid continuation byte"
     ]
    },
    {
     "name": "stderr",
     "output_type": "stream",
     "text": [
      "Exception ignored in: 'fiona._env.log_error'\n",
      "Traceback (most recent call last):\n",
      "  File \"D:\\Conda\\envs\\musa-550-fall-2021\\lib\\site-packages\\fiona\\env.py\", line 283, in defenv\n",
      "    local._env.start()\n",
      "UnicodeDecodeError: 'utf-8' codec can't decode byte 0xd5 in position 67: invalid continuation byte\n"
     ]
    },
    {
     "ename": "UnicodeDecodeError",
     "evalue": "'utf-8' codec can't decode byte 0xd5 in position 67: invalid continuation byte",
     "output_type": "error",
     "traceback": [
      "\u001b[1;31m---------------------------------------------------------------------------\u001b[0m",
      "\u001b[1;31mUnicodeDecodeError\u001b[0m                        Traceback (most recent call last)",
      "\u001b[1;31mUnicodeDecodeError\u001b[0m: 'utf-8' codec can't decode byte 0xd5 in position 67: invalid continuation byte"
     ]
    },
    {
     "name": "stderr",
     "output_type": "stream",
     "text": [
      "Exception ignored in: 'fiona._env.log_error'\n",
      "Traceback (most recent call last):\n",
      "  File \"D:\\Conda\\envs\\musa-550-fall-2021\\lib\\site-packages\\fiona\\env.py\", line 283, in defenv\n",
      "    local._env.start()\n",
      "UnicodeDecodeError: 'utf-8' codec can't decode byte 0xd5 in position 67: invalid continuation byte\n",
      "C:\\Users\\caizi\\AppData\\Local\\Temp/ipykernel_30056/4160512176.py:3: UserWarning: Column names longer than 10 characters will be truncated when saved to ESRI Shapefile.\n",
      "  bus_stops.to_file(\"E:/graduate/capstone/capstone/processed_data/bus_stops.shp\")\n"
     ]
    },
    {
     "ename": "UnicodeDecodeError",
     "evalue": "'utf-8' codec can't decode byte 0xd5 in position 71: invalid continuation byte",
     "output_type": "error",
     "traceback": [
      "\u001b[1;31m---------------------------------------------------------------------------\u001b[0m",
      "\u001b[1;31mUnicodeDecodeError\u001b[0m                        Traceback (most recent call last)",
      "\u001b[1;31mUnicodeDecodeError\u001b[0m: 'utf-8' codec can't decode byte 0xd5 in position 71: invalid continuation byte"
     ]
    },
    {
     "name": "stderr",
     "output_type": "stream",
     "text": [
      "Exception ignored in: 'fiona._env.log_error'\n",
      "Traceback (most recent call last):\n",
      "  File \"D:\\Conda\\envs\\musa-550-fall-2021\\lib\\site-packages\\fiona\\env.py\", line 283, in defenv\n",
      "    local._env.start()\n",
      "UnicodeDecodeError: 'utf-8' codec can't decode byte 0xd5 in position 71: invalid continuation byte\n"
     ]
    },
    {
     "ename": "UnicodeDecodeError",
     "evalue": "'utf-8' codec can't decode byte 0xd5 in position 71: invalid continuation byte",
     "output_type": "error",
     "traceback": [
      "\u001b[1;31m---------------------------------------------------------------------------\u001b[0m",
      "\u001b[1;31mUnicodeDecodeError\u001b[0m                        Traceback (most recent call last)",
      "\u001b[1;31mUnicodeDecodeError\u001b[0m: 'utf-8' codec can't decode byte 0xd5 in position 71: invalid continuation byte"
     ]
    },
    {
     "name": "stderr",
     "output_type": "stream",
     "text": [
      "Exception ignored in: 'fiona._env.log_error'\n",
      "Traceback (most recent call last):\n",
      "  File \"D:\\Conda\\envs\\musa-550-fall-2021\\lib\\site-packages\\fiona\\env.py\", line 283, in defenv\n",
      "    local._env.start()\n",
      "UnicodeDecodeError: 'utf-8' codec can't decode byte 0xd5 in position 71: invalid continuation byte\n"
     ]
    },
    {
     "ename": "UnicodeDecodeError",
     "evalue": "'utf-8' codec can't decode byte 0xd5 in position 76: invalid continuation byte",
     "output_type": "error",
     "traceback": [
      "\u001b[1;31m---------------------------------------------------------------------------\u001b[0m",
      "\u001b[1;31mUnicodeDecodeError\u001b[0m                        Traceback (most recent call last)",
      "\u001b[1;31mUnicodeDecodeError\u001b[0m: 'utf-8' codec can't decode byte 0xd5 in position 76: invalid continuation byte"
     ]
    },
    {
     "name": "stderr",
     "output_type": "stream",
     "text": [
      "Exception ignored in: 'fiona._env.log_error'\n",
      "Traceback (most recent call last):\n",
      "  File \"D:\\Conda\\envs\\musa-550-fall-2021\\lib\\site-packages\\fiona\\env.py\", line 283, in defenv\n",
      "    local._env.start()\n",
      "UnicodeDecodeError: 'utf-8' codec can't decode byte 0xd5 in position 76: invalid continuation byte\n"
     ]
    },
    {
     "ename": "UnicodeDecodeError",
     "evalue": "'utf-8' codec can't decode byte 0xd5 in position 76: invalid continuation byte",
     "output_type": "error",
     "traceback": [
      "\u001b[1;31m---------------------------------------------------------------------------\u001b[0m",
      "\u001b[1;31mUnicodeDecodeError\u001b[0m                        Traceback (most recent call last)",
      "\u001b[1;31mUnicodeDecodeError\u001b[0m: 'utf-8' codec can't decode byte 0xd5 in position 76: invalid continuation byte"
     ]
    },
    {
     "name": "stderr",
     "output_type": "stream",
     "text": [
      "Exception ignored in: 'fiona._env.log_error'\n",
      "Traceback (most recent call last):\n",
      "  File \"D:\\Conda\\envs\\musa-550-fall-2021\\lib\\site-packages\\fiona\\env.py\", line 283, in defenv\n",
      "    local._env.start()\n",
      "UnicodeDecodeError: 'utf-8' codec can't decode byte 0xd5 in position 76: invalid continuation byte\n"
     ]
    },
    {
     "ename": "UnicodeDecodeError",
     "evalue": "'utf-8' codec can't decode byte 0xd5 in position 67: invalid continuation byte",
     "output_type": "error",
     "traceback": [
      "\u001b[1;31m---------------------------------------------------------------------------\u001b[0m",
      "\u001b[1;31mUnicodeDecodeError\u001b[0m                        Traceback (most recent call last)",
      "\u001b[1;31mUnicodeDecodeError\u001b[0m: 'utf-8' codec can't decode byte 0xd5 in position 67: invalid continuation byte"
     ]
    },
    {
     "name": "stderr",
     "output_type": "stream",
     "text": [
      "Exception ignored in: 'fiona._env.log_error'\n",
      "Traceback (most recent call last):\n",
      "  File \"D:\\Conda\\envs\\musa-550-fall-2021\\lib\\site-packages\\fiona\\env.py\", line 283, in defenv\n",
      "    local._env.start()\n",
      "UnicodeDecodeError: 'utf-8' codec can't decode byte 0xd5 in position 67: invalid continuation byte\n"
     ]
    },
    {
     "ename": "UnicodeDecodeError",
     "evalue": "'utf-8' codec can't decode byte 0xd5 in position 67: invalid continuation byte",
     "output_type": "error",
     "traceback": [
      "\u001b[1;31m---------------------------------------------------------------------------\u001b[0m",
      "\u001b[1;31mUnicodeDecodeError\u001b[0m                        Traceback (most recent call last)",
      "\u001b[1;31mUnicodeDecodeError\u001b[0m: 'utf-8' codec can't decode byte 0xd5 in position 67: invalid continuation byte"
     ]
    },
    {
     "name": "stderr",
     "output_type": "stream",
     "text": [
      "Exception ignored in: 'fiona._env.log_error'\n",
      "Traceback (most recent call last):\n",
      "  File \"D:\\Conda\\envs\\musa-550-fall-2021\\lib\\site-packages\\fiona\\env.py\", line 283, in defenv\n",
      "    local._env.start()\n",
      "UnicodeDecodeError: 'utf-8' codec can't decode byte 0xd5 in position 67: invalid continuation byte\n"
     ]
    },
    {
     "ename": "UnicodeDecodeError",
     "evalue": "'utf-8' codec can't decode byte 0xd5 in position 71: invalid continuation byte",
     "output_type": "error",
     "traceback": [
      "\u001b[1;31m---------------------------------------------------------------------------\u001b[0m",
      "\u001b[1;31mUnicodeDecodeError\u001b[0m                        Traceback (most recent call last)",
      "\u001b[1;31mUnicodeDecodeError\u001b[0m: 'utf-8' codec can't decode byte 0xd5 in position 71: invalid continuation byte"
     ]
    },
    {
     "name": "stderr",
     "output_type": "stream",
     "text": [
      "Exception ignored in: 'fiona._env.log_error'\n",
      "Traceback (most recent call last):\n",
      "  File \"D:\\Conda\\envs\\musa-550-fall-2021\\lib\\site-packages\\fiona\\env.py\", line 283, in defenv\n",
      "    local._env.start()\n",
      "UnicodeDecodeError: 'utf-8' codec can't decode byte 0xd5 in position 71: invalid continuation byte\n"
     ]
    },
    {
     "ename": "UnicodeDecodeError",
     "evalue": "'utf-8' codec can't decode byte 0xd5 in position 71: invalid continuation byte",
     "output_type": "error",
     "traceback": [
      "\u001b[1;31m---------------------------------------------------------------------------\u001b[0m",
      "\u001b[1;31mUnicodeDecodeError\u001b[0m                        Traceback (most recent call last)",
      "\u001b[1;31mUnicodeDecodeError\u001b[0m: 'utf-8' codec can't decode byte 0xd5 in position 71: invalid continuation byte"
     ]
    },
    {
     "name": "stderr",
     "output_type": "stream",
     "text": [
      "Exception ignored in: 'fiona._env.log_error'\n",
      "Traceback (most recent call last):\n",
      "  File \"D:\\Conda\\envs\\musa-550-fall-2021\\lib\\site-packages\\fiona\\env.py\", line 283, in defenv\n",
      "    local._env.start()\n",
      "UnicodeDecodeError: 'utf-8' codec can't decode byte 0xd5 in position 71: invalid continuation byte\n"
     ]
    },
    {
     "ename": "UnicodeDecodeError",
     "evalue": "'utf-8' codec can't decode byte 0xd5 in position 76: invalid continuation byte",
     "output_type": "error",
     "traceback": [
      "\u001b[1;31m---------------------------------------------------------------------------\u001b[0m",
      "\u001b[1;31mUnicodeDecodeError\u001b[0m                        Traceback (most recent call last)",
      "\u001b[1;31mUnicodeDecodeError\u001b[0m: 'utf-8' codec can't decode byte 0xd5 in position 76: invalid continuation byte"
     ]
    },
    {
     "name": "stderr",
     "output_type": "stream",
     "text": [
      "Exception ignored in: 'fiona._env.log_error'\n",
      "Traceback (most recent call last):\n",
      "  File \"D:\\Conda\\envs\\musa-550-fall-2021\\lib\\site-packages\\fiona\\env.py\", line 283, in defenv\n",
      "    local._env.start()\n",
      "UnicodeDecodeError: 'utf-8' codec can't decode byte 0xd5 in position 76: invalid continuation byte\n"
     ]
    },
    {
     "ename": "UnicodeDecodeError",
     "evalue": "'utf-8' codec can't decode byte 0xd5 in position 76: invalid continuation byte",
     "output_type": "error",
     "traceback": [
      "\u001b[1;31m---------------------------------------------------------------------------\u001b[0m",
      "\u001b[1;31mUnicodeDecodeError\u001b[0m                        Traceback (most recent call last)",
      "\u001b[1;31mUnicodeDecodeError\u001b[0m: 'utf-8' codec can't decode byte 0xd5 in position 76: invalid continuation byte"
     ]
    },
    {
     "name": "stderr",
     "output_type": "stream",
     "text": [
      "Exception ignored in: 'fiona._env.log_error'\n",
      "Traceback (most recent call last):\n",
      "  File \"D:\\Conda\\envs\\musa-550-fall-2021\\lib\\site-packages\\fiona\\env.py\", line 283, in defenv\n",
      "    local._env.start()\n",
      "UnicodeDecodeError: 'utf-8' codec can't decode byte 0xd5 in position 76: invalid continuation byte\n"
     ]
    },
    {
     "ename": "UnicodeDecodeError",
     "evalue": "'utf-8' codec can't decode byte 0xd5 in position 67: invalid continuation byte",
     "output_type": "error",
     "traceback": [
      "\u001b[1;31m---------------------------------------------------------------------------\u001b[0m",
      "\u001b[1;31mUnicodeDecodeError\u001b[0m                        Traceback (most recent call last)",
      "\u001b[1;31mUnicodeDecodeError\u001b[0m: 'utf-8' codec can't decode byte 0xd5 in position 67: invalid continuation byte"
     ]
    },
    {
     "name": "stderr",
     "output_type": "stream",
     "text": [
      "Exception ignored in: 'fiona._env.log_error'\n",
      "Traceback (most recent call last):\n",
      "  File \"D:\\Conda\\envs\\musa-550-fall-2021\\lib\\site-packages\\fiona\\env.py\", line 283, in defenv\n",
      "    local._env.start()\n",
      "UnicodeDecodeError: 'utf-8' codec can't decode byte 0xd5 in position 67: invalid continuation byte\n"
     ]
    },
    {
     "ename": "UnicodeDecodeError",
     "evalue": "'utf-8' codec can't decode byte 0xd5 in position 67: invalid continuation byte",
     "output_type": "error",
     "traceback": [
      "\u001b[1;31m---------------------------------------------------------------------------\u001b[0m",
      "\u001b[1;31mUnicodeDecodeError\u001b[0m                        Traceback (most recent call last)",
      "\u001b[1;31mUnicodeDecodeError\u001b[0m: 'utf-8' codec can't decode byte 0xd5 in position 67: invalid continuation byte"
     ]
    },
    {
     "name": "stderr",
     "output_type": "stream",
     "text": [
      "Exception ignored in: 'fiona._env.log_error'\n",
      "Traceback (most recent call last):\n",
      "  File \"D:\\Conda\\envs\\musa-550-fall-2021\\lib\\site-packages\\fiona\\env.py\", line 283, in defenv\n",
      "    local._env.start()\n",
      "UnicodeDecodeError: 'utf-8' codec can't decode byte 0xd5 in position 67: invalid continuation byte\n"
     ]
    },
    {
     "ename": "UnicodeDecodeError",
     "evalue": "'utf-8' codec can't decode byte 0xd5 in position 71: invalid continuation byte",
     "output_type": "error",
     "traceback": [
      "\u001b[1;31m---------------------------------------------------------------------------\u001b[0m",
      "\u001b[1;31mUnicodeDecodeError\u001b[0m                        Traceback (most recent call last)",
      "\u001b[1;31mUnicodeDecodeError\u001b[0m: 'utf-8' codec can't decode byte 0xd5 in position 71: invalid continuation byte"
     ]
    },
    {
     "name": "stderr",
     "output_type": "stream",
     "text": [
      "Exception ignored in: 'fiona._env.log_error'\n",
      "Traceback (most recent call last):\n",
      "  File \"D:\\Conda\\envs\\musa-550-fall-2021\\lib\\site-packages\\fiona\\env.py\", line 283, in defenv\n",
      "    local._env.start()\n",
      "UnicodeDecodeError: 'utf-8' codec can't decode byte 0xd5 in position 71: invalid continuation byte\n"
     ]
    },
    {
     "ename": "UnicodeDecodeError",
     "evalue": "'utf-8' codec can't decode byte 0xd5 in position 71: invalid continuation byte",
     "output_type": "error",
     "traceback": [
      "\u001b[1;31m---------------------------------------------------------------------------\u001b[0m",
      "\u001b[1;31mUnicodeDecodeError\u001b[0m                        Traceback (most recent call last)",
      "\u001b[1;31mUnicodeDecodeError\u001b[0m: 'utf-8' codec can't decode byte 0xd5 in position 71: invalid continuation byte"
     ]
    },
    {
     "name": "stderr",
     "output_type": "stream",
     "text": [
      "Exception ignored in: 'fiona._env.log_error'\n",
      "Traceback (most recent call last):\n",
      "  File \"D:\\Conda\\envs\\musa-550-fall-2021\\lib\\site-packages\\fiona\\env.py\", line 283, in defenv\n",
      "    local._env.start()\n",
      "UnicodeDecodeError: 'utf-8' codec can't decode byte 0xd5 in position 71: invalid continuation byte\n"
     ]
    },
    {
     "ename": "UnicodeDecodeError",
     "evalue": "'utf-8' codec can't decode byte 0xd5 in position 76: invalid continuation byte",
     "output_type": "error",
     "traceback": [
      "\u001b[1;31m---------------------------------------------------------------------------\u001b[0m",
      "\u001b[1;31mUnicodeDecodeError\u001b[0m                        Traceback (most recent call last)",
      "\u001b[1;31mUnicodeDecodeError\u001b[0m: 'utf-8' codec can't decode byte 0xd5 in position 76: invalid continuation byte"
     ]
    },
    {
     "name": "stderr",
     "output_type": "stream",
     "text": [
      "Exception ignored in: 'fiona._env.log_error'\n",
      "Traceback (most recent call last):\n",
      "  File \"D:\\Conda\\envs\\musa-550-fall-2021\\lib\\site-packages\\fiona\\env.py\", line 283, in defenv\n",
      "    local._env.start()\n",
      "UnicodeDecodeError: 'utf-8' codec can't decode byte 0xd5 in position 76: invalid continuation byte\n"
     ]
    },
    {
     "ename": "UnicodeDecodeError",
     "evalue": "'utf-8' codec can't decode byte 0xd5 in position 76: invalid continuation byte",
     "output_type": "error",
     "traceback": [
      "\u001b[1;31m---------------------------------------------------------------------------\u001b[0m",
      "\u001b[1;31mUnicodeDecodeError\u001b[0m                        Traceback (most recent call last)",
      "\u001b[1;31mUnicodeDecodeError\u001b[0m: 'utf-8' codec can't decode byte 0xd5 in position 76: invalid continuation byte"
     ]
    },
    {
     "name": "stderr",
     "output_type": "stream",
     "text": [
      "Exception ignored in: 'fiona._env.log_error'\n",
      "Traceback (most recent call last):\n",
      "  File \"D:\\Conda\\envs\\musa-550-fall-2021\\lib\\site-packages\\fiona\\env.py\", line 283, in defenv\n",
      "    local._env.start()\n",
      "UnicodeDecodeError: 'utf-8' codec can't decode byte 0xd5 in position 76: invalid continuation byte\n"
     ]
    },
    {
     "ename": "UnicodeDecodeError",
     "evalue": "'utf-8' codec can't decode byte 0xd5 in position 67: invalid continuation byte",
     "output_type": "error",
     "traceback": [
      "\u001b[1;31m---------------------------------------------------------------------------\u001b[0m",
      "\u001b[1;31mUnicodeDecodeError\u001b[0m                        Traceback (most recent call last)",
      "\u001b[1;31mUnicodeDecodeError\u001b[0m: 'utf-8' codec can't decode byte 0xd5 in position 67: invalid continuation byte"
     ]
    },
    {
     "name": "stderr",
     "output_type": "stream",
     "text": [
      "Exception ignored in: 'fiona._env.log_error'\n",
      "Traceback (most recent call last):\n",
      "  File \"D:\\Conda\\envs\\musa-550-fall-2021\\lib\\site-packages\\fiona\\env.py\", line 283, in defenv\n",
      "    local._env.start()\n",
      "UnicodeDecodeError: 'utf-8' codec can't decode byte 0xd5 in position 67: invalid continuation byte\n"
     ]
    },
    {
     "ename": "UnicodeDecodeError",
     "evalue": "'utf-8' codec can't decode byte 0xd5 in position 67: invalid continuation byte",
     "output_type": "error",
     "traceback": [
      "\u001b[1;31m---------------------------------------------------------------------------\u001b[0m",
      "\u001b[1;31mUnicodeDecodeError\u001b[0m                        Traceback (most recent call last)",
      "\u001b[1;31mUnicodeDecodeError\u001b[0m: 'utf-8' codec can't decode byte 0xd5 in position 67: invalid continuation byte"
     ]
    },
    {
     "name": "stderr",
     "output_type": "stream",
     "text": [
      "Exception ignored in: 'fiona._env.log_error'\n",
      "Traceback (most recent call last):\n",
      "  File \"D:\\Conda\\envs\\musa-550-fall-2021\\lib\\site-packages\\fiona\\env.py\", line 283, in defenv\n",
      "    local._env.start()\n",
      "UnicodeDecodeError: 'utf-8' codec can't decode byte 0xd5 in position 67: invalid continuation byte\n"
     ]
    },
    {
     "ename": "UnicodeDecodeError",
     "evalue": "'utf-8' codec can't decode byte 0xd5 in position 71: invalid continuation byte",
     "output_type": "error",
     "traceback": [
      "\u001b[1;31m---------------------------------------------------------------------------\u001b[0m",
      "\u001b[1;31mUnicodeDecodeError\u001b[0m                        Traceback (most recent call last)",
      "\u001b[1;31mUnicodeDecodeError\u001b[0m: 'utf-8' codec can't decode byte 0xd5 in position 71: invalid continuation byte"
     ]
    },
    {
     "name": "stderr",
     "output_type": "stream",
     "text": [
      "Exception ignored in: 'fiona._env.log_error'\n",
      "Traceback (most recent call last):\n",
      "  File \"D:\\Conda\\envs\\musa-550-fall-2021\\lib\\site-packages\\fiona\\env.py\", line 283, in defenv\n",
      "    local._env.start()\n",
      "UnicodeDecodeError: 'utf-8' codec can't decode byte 0xd5 in position 71: invalid continuation byte\n"
     ]
    },
    {
     "ename": "UnicodeDecodeError",
     "evalue": "'utf-8' codec can't decode byte 0xd5 in position 71: invalid continuation byte",
     "output_type": "error",
     "traceback": [
      "\u001b[1;31m---------------------------------------------------------------------------\u001b[0m",
      "\u001b[1;31mUnicodeDecodeError\u001b[0m                        Traceback (most recent call last)",
      "\u001b[1;31mUnicodeDecodeError\u001b[0m: 'utf-8' codec can't decode byte 0xd5 in position 71: invalid continuation byte"
     ]
    },
    {
     "name": "stderr",
     "output_type": "stream",
     "text": [
      "Exception ignored in: 'fiona._env.log_error'\n",
      "Traceback (most recent call last):\n",
      "  File \"D:\\Conda\\envs\\musa-550-fall-2021\\lib\\site-packages\\fiona\\env.py\", line 283, in defenv\n",
      "    local._env.start()\n",
      "UnicodeDecodeError: 'utf-8' codec can't decode byte 0xd5 in position 71: invalid continuation byte\n"
     ]
    },
    {
     "ename": "UnicodeDecodeError",
     "evalue": "'utf-8' codec can't decode byte 0xd5 in position 76: invalid continuation byte",
     "output_type": "error",
     "traceback": [
      "\u001b[1;31m---------------------------------------------------------------------------\u001b[0m",
      "\u001b[1;31mUnicodeDecodeError\u001b[0m                        Traceback (most recent call last)",
      "\u001b[1;31mUnicodeDecodeError\u001b[0m: 'utf-8' codec can't decode byte 0xd5 in position 76: invalid continuation byte"
     ]
    },
    {
     "name": "stderr",
     "output_type": "stream",
     "text": [
      "Exception ignored in: 'fiona._env.log_error'\n",
      "Traceback (most recent call last):\n",
      "  File \"D:\\Conda\\envs\\musa-550-fall-2021\\lib\\site-packages\\fiona\\env.py\", line 283, in defenv\n",
      "    local._env.start()\n",
      "UnicodeDecodeError: 'utf-8' codec can't decode byte 0xd5 in position 76: invalid continuation byte\n"
     ]
    },
    {
     "ename": "UnicodeDecodeError",
     "evalue": "'utf-8' codec can't decode byte 0xd5 in position 76: invalid continuation byte",
     "output_type": "error",
     "traceback": [
      "\u001b[1;31m---------------------------------------------------------------------------\u001b[0m",
      "\u001b[1;31mUnicodeDecodeError\u001b[0m                        Traceback (most recent call last)",
      "\u001b[1;31mUnicodeDecodeError\u001b[0m: 'utf-8' codec can't decode byte 0xd5 in position 76: invalid continuation byte"
     ]
    },
    {
     "name": "stderr",
     "output_type": "stream",
     "text": [
      "Exception ignored in: 'fiona._env.log_error'\n",
      "Traceback (most recent call last):\n",
      "  File \"D:\\Conda\\envs\\musa-550-fall-2021\\lib\\site-packages\\fiona\\env.py\", line 283, in defenv\n",
      "    local._env.start()\n",
      "UnicodeDecodeError: 'utf-8' codec can't decode byte 0xd5 in position 76: invalid continuation byte\n"
     ]
    },
    {
     "ename": "UnicodeDecodeError",
     "evalue": "'utf-8' codec can't decode byte 0xd5 in position 67: invalid continuation byte",
     "output_type": "error",
     "traceback": [
      "\u001b[1;31m---------------------------------------------------------------------------\u001b[0m",
      "\u001b[1;31mUnicodeDecodeError\u001b[0m                        Traceback (most recent call last)",
      "\u001b[1;31mUnicodeDecodeError\u001b[0m: 'utf-8' codec can't decode byte 0xd5 in position 67: invalid continuation byte"
     ]
    },
    {
     "name": "stderr",
     "output_type": "stream",
     "text": [
      "Exception ignored in: 'fiona._env.log_error'\n",
      "Traceback (most recent call last):\n",
      "  File \"D:\\Conda\\envs\\musa-550-fall-2021\\lib\\site-packages\\fiona\\env.py\", line 283, in defenv\n",
      "    local._env.start()\n",
      "UnicodeDecodeError: 'utf-8' codec can't decode byte 0xd5 in position 67: invalid continuation byte\n"
     ]
    },
    {
     "ename": "UnicodeDecodeError",
     "evalue": "'utf-8' codec can't decode byte 0xd5 in position 67: invalid continuation byte",
     "output_type": "error",
     "traceback": [
      "\u001b[1;31m---------------------------------------------------------------------------\u001b[0m",
      "\u001b[1;31mUnicodeDecodeError\u001b[0m                        Traceback (most recent call last)",
      "\u001b[1;31mUnicodeDecodeError\u001b[0m: 'utf-8' codec can't decode byte 0xd5 in position 67: invalid continuation byte"
     ]
    },
    {
     "name": "stderr",
     "output_type": "stream",
     "text": [
      "Exception ignored in: 'fiona._env.log_error'\n",
      "Traceback (most recent call last):\n",
      "  File \"D:\\Conda\\envs\\musa-550-fall-2021\\lib\\site-packages\\fiona\\env.py\", line 283, in defenv\n",
      "    local._env.start()\n",
      "UnicodeDecodeError: 'utf-8' codec can't decode byte 0xd5 in position 67: invalid continuation byte\n"
     ]
    }
   ],
   "source": [
    "drink.to_file(\"E:/graduate/capstone/capstone/processed_data/drink.shp\")\n",
    "food.to_file(\"E:/graduate/capstone/capstone/processed_data/food.shp\")\n",
    "bus_stops.to_file(\"E:/graduate/capstone/capstone/processed_data/bus_stops.shp\")"
   ]
  }
 ],
 "metadata": {
  "kernelspec": {
   "display_name": "Python 3 (ipykernel)",
   "language": "python",
   "name": "python3"
  },
  "language_info": {
   "codemirror_mode": {
    "name": "ipython",
    "version": 3
   },
   "file_extension": ".py",
   "mimetype": "text/x-python",
   "name": "python",
   "nbconvert_exporter": "python",
   "pygments_lexer": "ipython3",
   "version": "3.8.12"
  }
 },
 "nbformat": 4,
 "nbformat_minor": 5
}
