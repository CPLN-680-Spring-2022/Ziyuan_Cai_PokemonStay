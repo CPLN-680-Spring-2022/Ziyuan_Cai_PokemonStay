{
 "cells": [
  {
   "cell_type": "code",
   "execution_count": 1,
   "id": "84839ae6",
   "metadata": {},
   "outputs": [
    {
     "ename": "UnicodeDecodeError",
     "evalue": "'utf-8' codec can't decode byte 0xd5 in position 71: invalid continuation byte",
     "output_type": "error",
     "traceback": [
      "\u001b[1;31m---------------------------------------------------------------------------\u001b[0m",
      "\u001b[1;31mUnicodeDecodeError\u001b[0m                        Traceback (most recent call last)",
      "\u001b[1;31mUnicodeDecodeError\u001b[0m: 'utf-8' codec can't decode byte 0xd5 in position 71: invalid continuation byte"
     ]
    },
    {
     "name": "stderr",
     "output_type": "stream",
     "text": [
      "Exception ignored in: 'fiona._env.log_error'\n",
      "Traceback (most recent call last):\n",
      "  File \"D:\\Conda\\envs\\musa-550-fall-2021\\lib\\site-packages\\fiona\\env.py\", line 283, in defenv\n",
      "    local._env.start()\n",
      "UnicodeDecodeError: 'utf-8' codec can't decode byte 0xd5 in position 71: invalid continuation byte\n"
     ]
    },
    {
     "ename": "UnicodeDecodeError",
     "evalue": "'utf-8' codec can't decode byte 0xd5 in position 71: invalid continuation byte",
     "output_type": "error",
     "traceback": [
      "\u001b[1;31m---------------------------------------------------------------------------\u001b[0m",
      "\u001b[1;31mUnicodeDecodeError\u001b[0m                        Traceback (most recent call last)",
      "\u001b[1;31mUnicodeDecodeError\u001b[0m: 'utf-8' codec can't decode byte 0xd5 in position 71: invalid continuation byte"
     ]
    },
    {
     "name": "stderr",
     "output_type": "stream",
     "text": [
      "Exception ignored in: 'fiona._env.log_error'\n",
      "Traceback (most recent call last):\n",
      "  File \"D:\\Conda\\envs\\musa-550-fall-2021\\lib\\site-packages\\fiona\\env.py\", line 283, in defenv\n",
      "    local._env.start()\n",
      "UnicodeDecodeError: 'utf-8' codec can't decode byte 0xd5 in position 71: invalid continuation byte\n"
     ]
    },
    {
     "ename": "UnicodeDecodeError",
     "evalue": "'utf-8' codec can't decode byte 0xd5 in position 76: invalid continuation byte",
     "output_type": "error",
     "traceback": [
      "\u001b[1;31m---------------------------------------------------------------------------\u001b[0m",
      "\u001b[1;31mUnicodeDecodeError\u001b[0m                        Traceback (most recent call last)",
      "\u001b[1;31mUnicodeDecodeError\u001b[0m: 'utf-8' codec can't decode byte 0xd5 in position 76: invalid continuation byte"
     ]
    },
    {
     "name": "stderr",
     "output_type": "stream",
     "text": [
      "Exception ignored in: 'fiona._env.log_error'\n",
      "Traceback (most recent call last):\n",
      "  File \"D:\\Conda\\envs\\musa-550-fall-2021\\lib\\site-packages\\fiona\\env.py\", line 283, in defenv\n",
      "    local._env.start()\n",
      "UnicodeDecodeError: 'utf-8' codec can't decode byte 0xd5 in position 76: invalid continuation byte\n"
     ]
    },
    {
     "ename": "UnicodeDecodeError",
     "evalue": "'utf-8' codec can't decode byte 0xd5 in position 76: invalid continuation byte",
     "output_type": "error",
     "traceback": [
      "\u001b[1;31m---------------------------------------------------------------------------\u001b[0m",
      "\u001b[1;31mUnicodeDecodeError\u001b[0m                        Traceback (most recent call last)",
      "\u001b[1;31mUnicodeDecodeError\u001b[0m: 'utf-8' codec can't decode byte 0xd5 in position 76: invalid continuation byte"
     ]
    },
    {
     "name": "stderr",
     "output_type": "stream",
     "text": [
      "Exception ignored in: 'fiona._env.log_error'\n",
      "Traceback (most recent call last):\n",
      "  File \"D:\\Conda\\envs\\musa-550-fall-2021\\lib\\site-packages\\fiona\\env.py\", line 283, in defenv\n",
      "    local._env.start()\n",
      "UnicodeDecodeError: 'utf-8' codec can't decode byte 0xd5 in position 76: invalid continuation byte\n"
     ]
    },
    {
     "ename": "UnicodeDecodeError",
     "evalue": "'utf-8' codec can't decode byte 0xd5 in position 67: invalid continuation byte",
     "output_type": "error",
     "traceback": [
      "\u001b[1;31m---------------------------------------------------------------------------\u001b[0m",
      "\u001b[1;31mUnicodeDecodeError\u001b[0m                        Traceback (most recent call last)",
      "\u001b[1;31mUnicodeDecodeError\u001b[0m: 'utf-8' codec can't decode byte 0xd5 in position 67: invalid continuation byte"
     ]
    },
    {
     "name": "stderr",
     "output_type": "stream",
     "text": [
      "Exception ignored in: 'fiona._env.log_error'\n",
      "Traceback (most recent call last):\n",
      "  File \"D:\\Conda\\envs\\musa-550-fall-2021\\lib\\site-packages\\fiona\\env.py\", line 283, in defenv\n",
      "    local._env.start()\n",
      "UnicodeDecodeError: 'utf-8' codec can't decode byte 0xd5 in position 67: invalid continuation byte\n"
     ]
    },
    {
     "ename": "UnicodeDecodeError",
     "evalue": "'utf-8' codec can't decode byte 0xd5 in position 67: invalid continuation byte",
     "output_type": "error",
     "traceback": [
      "\u001b[1;31m---------------------------------------------------------------------------\u001b[0m",
      "\u001b[1;31mUnicodeDecodeError\u001b[0m                        Traceback (most recent call last)",
      "\u001b[1;31mUnicodeDecodeError\u001b[0m: 'utf-8' codec can't decode byte 0xd5 in position 67: invalid continuation byte"
     ]
    },
    {
     "name": "stderr",
     "output_type": "stream",
     "text": [
      "Exception ignored in: 'fiona._env.log_error'\n",
      "Traceback (most recent call last):\n",
      "  File \"D:\\Conda\\envs\\musa-550-fall-2021\\lib\\site-packages\\fiona\\env.py\", line 283, in defenv\n",
      "    local._env.start()\n",
      "UnicodeDecodeError: 'utf-8' codec can't decode byte 0xd5 in position 67: invalid continuation byte\n"
     ]
    },
    {
     "ename": "UnicodeDecodeError",
     "evalue": "'utf-8' codec can't decode byte 0xd5 in position 71: invalid continuation byte",
     "output_type": "error",
     "traceback": [
      "\u001b[1;31m---------------------------------------------------------------------------\u001b[0m",
      "\u001b[1;31mUnicodeDecodeError\u001b[0m                        Traceback (most recent call last)",
      "\u001b[1;31mUnicodeDecodeError\u001b[0m: 'utf-8' codec can't decode byte 0xd5 in position 71: invalid continuation byte"
     ]
    },
    {
     "name": "stderr",
     "output_type": "stream",
     "text": [
      "Exception ignored in: 'fiona._env.log_error'\n",
      "Traceback (most recent call last):\n",
      "  File \"D:\\Conda\\envs\\musa-550-fall-2021\\lib\\site-packages\\fiona\\env.py\", line 283, in defenv\n",
      "    local._env.start()\n",
      "UnicodeDecodeError: 'utf-8' codec can't decode byte 0xd5 in position 71: invalid continuation byte\n"
     ]
    },
    {
     "ename": "UnicodeDecodeError",
     "evalue": "'utf-8' codec can't decode byte 0xd5 in position 71: invalid continuation byte",
     "output_type": "error",
     "traceback": [
      "\u001b[1;31m---------------------------------------------------------------------------\u001b[0m",
      "\u001b[1;31mUnicodeDecodeError\u001b[0m                        Traceback (most recent call last)",
      "\u001b[1;31mUnicodeDecodeError\u001b[0m: 'utf-8' codec can't decode byte 0xd5 in position 71: invalid continuation byte"
     ]
    },
    {
     "name": "stderr",
     "output_type": "stream",
     "text": [
      "Exception ignored in: 'fiona._env.log_error'\n",
      "Traceback (most recent call last):\n",
      "  File \"D:\\Conda\\envs\\musa-550-fall-2021\\lib\\site-packages\\fiona\\env.py\", line 283, in defenv\n",
      "    local._env.start()\n",
      "UnicodeDecodeError: 'utf-8' codec can't decode byte 0xd5 in position 71: invalid continuation byte\n"
     ]
    },
    {
     "ename": "UnicodeDecodeError",
     "evalue": "'utf-8' codec can't decode byte 0xd5 in position 76: invalid continuation byte",
     "output_type": "error",
     "traceback": [
      "\u001b[1;31m---------------------------------------------------------------------------\u001b[0m",
      "\u001b[1;31mUnicodeDecodeError\u001b[0m                        Traceback (most recent call last)",
      "\u001b[1;31mUnicodeDecodeError\u001b[0m: 'utf-8' codec can't decode byte 0xd5 in position 76: invalid continuation byte"
     ]
    },
    {
     "name": "stderr",
     "output_type": "stream",
     "text": [
      "Exception ignored in: 'fiona._env.log_error'\n",
      "Traceback (most recent call last):\n",
      "  File \"D:\\Conda\\envs\\musa-550-fall-2021\\lib\\site-packages\\fiona\\env.py\", line 283, in defenv\n",
      "    local._env.start()\n",
      "UnicodeDecodeError: 'utf-8' codec can't decode byte 0xd5 in position 76: invalid continuation byte\n"
     ]
    },
    {
     "ename": "UnicodeDecodeError",
     "evalue": "'utf-8' codec can't decode byte 0xd5 in position 76: invalid continuation byte",
     "output_type": "error",
     "traceback": [
      "\u001b[1;31m---------------------------------------------------------------------------\u001b[0m",
      "\u001b[1;31mUnicodeDecodeError\u001b[0m                        Traceback (most recent call last)",
      "\u001b[1;31mUnicodeDecodeError\u001b[0m: 'utf-8' codec can't decode byte 0xd5 in position 76: invalid continuation byte"
     ]
    },
    {
     "name": "stderr",
     "output_type": "stream",
     "text": [
      "Exception ignored in: 'fiona._env.log_error'\n",
      "Traceback (most recent call last):\n",
      "  File \"D:\\Conda\\envs\\musa-550-fall-2021\\lib\\site-packages\\fiona\\env.py\", line 283, in defenv\n",
      "    local._env.start()\n",
      "UnicodeDecodeError: 'utf-8' codec can't decode byte 0xd5 in position 76: invalid continuation byte\n"
     ]
    },
    {
     "ename": "UnicodeDecodeError",
     "evalue": "'utf-8' codec can't decode byte 0xd5 in position 67: invalid continuation byte",
     "output_type": "error",
     "traceback": [
      "\u001b[1;31m---------------------------------------------------------------------------\u001b[0m",
      "\u001b[1;31mUnicodeDecodeError\u001b[0m                        Traceback (most recent call last)",
      "\u001b[1;31mUnicodeDecodeError\u001b[0m: 'utf-8' codec can't decode byte 0xd5 in position 67: invalid continuation byte"
     ]
    },
    {
     "name": "stderr",
     "output_type": "stream",
     "text": [
      "Exception ignored in: 'fiona._env.log_error'\n",
      "Traceback (most recent call last):\n",
      "  File \"D:\\Conda\\envs\\musa-550-fall-2021\\lib\\site-packages\\fiona\\env.py\", line 283, in defenv\n",
      "    local._env.start()\n",
      "UnicodeDecodeError: 'utf-8' codec can't decode byte 0xd5 in position 67: invalid continuation byte\n"
     ]
    },
    {
     "ename": "UnicodeDecodeError",
     "evalue": "'utf-8' codec can't decode byte 0xd5 in position 67: invalid continuation byte",
     "output_type": "error",
     "traceback": [
      "\u001b[1;31m---------------------------------------------------------------------------\u001b[0m",
      "\u001b[1;31mUnicodeDecodeError\u001b[0m                        Traceback (most recent call last)",
      "\u001b[1;31mUnicodeDecodeError\u001b[0m: 'utf-8' codec can't decode byte 0xd5 in position 67: invalid continuation byte"
     ]
    },
    {
     "name": "stderr",
     "output_type": "stream",
     "text": [
      "Exception ignored in: 'fiona._env.log_error'\n",
      "Traceback (most recent call last):\n",
      "  File \"D:\\Conda\\envs\\musa-550-fall-2021\\lib\\site-packages\\fiona\\env.py\", line 283, in defenv\n",
      "    local._env.start()\n",
      "UnicodeDecodeError: 'utf-8' codec can't decode byte 0xd5 in position 67: invalid continuation byte\n"
     ]
    }
   ],
   "source": [
    "import numpy as np\n",
    "import pandas as pd\n",
    "import geopandas as gpd\n",
    "import matplotlib.pyplot as plt\n",
    "from shapely.geometry import Point"
   ]
  },
  {
   "cell_type": "code",
   "execution_count": 2,
   "id": "caa76444",
   "metadata": {},
   "outputs": [],
   "source": [
    "pokestop = pd.read_csv('E:/graduate/capstone/capstone/raw_data/pokestop.csv')"
   ]
  },
  {
   "cell_type": "code",
   "execution_count": 3,
   "id": "f13d2247",
   "metadata": {},
   "outputs": [],
   "source": [
    "def to_geodata(data):\n",
    "    geom = [Point(xy) for xy in zip(data.lon, data.lat)]\n",
    "    data = gpd.GeoDataFrame(data, crs=4326, geometry=geom)\n",
    "    data = data[[\"kind\",\"name\",\"geometry\"]]\n",
    "    return data"
   ]
  },
  {
   "cell_type": "code",
   "execution_count": 4,
   "id": "7d08e5ad",
   "metadata": {},
   "outputs": [],
   "source": [
    "pokestop=to_geodata(pokestop)"
   ]
  },
  {
   "cell_type": "code",
   "execution_count": 5,
   "id": "f0adbcd4",
   "metadata": {},
   "outputs": [
    {
     "data": {
      "text/html": [
       "<div>\n",
       "<style scoped>\n",
       "    .dataframe tbody tr th:only-of-type {\n",
       "        vertical-align: middle;\n",
       "    }\n",
       "\n",
       "    .dataframe tbody tr th {\n",
       "        vertical-align: top;\n",
       "    }\n",
       "\n",
       "    .dataframe thead th {\n",
       "        text-align: right;\n",
       "    }\n",
       "</style>\n",
       "<table border=\"1\" class=\"dataframe\">\n",
       "  <thead>\n",
       "    <tr style=\"text-align: right;\">\n",
       "      <th></th>\n",
       "      <th>kind</th>\n",
       "      <th>name</th>\n",
       "      <th>geometry</th>\n",
       "    </tr>\n",
       "  </thead>\n",
       "  <tbody>\n",
       "    <tr>\n",
       "      <th>0</th>\n",
       "      <td>Gym</td>\n",
       "      <td>Available blitz pink</td>\n",
       "      <td>POINT (-75.24380 39.87486)</td>\n",
       "    </tr>\n",
       "    <tr>\n",
       "      <th>1</th>\n",
       "      <td>Gym</td>\n",
       "      <td>Eagles Nova care Complex</td>\n",
       "      <td>POINT (-75.17621 39.90683)</td>\n",
       "    </tr>\n",
       "    <tr>\n",
       "      <th>2</th>\n",
       "      <td>EX Raid Gym</td>\n",
       "      <td>Edgewood Lake Boat House</td>\n",
       "      <td>POINT (-75.18166 39.90385)</td>\n",
       "    </tr>\n",
       "    <tr>\n",
       "      <th>3</th>\n",
       "      <td>Gym</td>\n",
       "      <td>Electric Motor Artwork</td>\n",
       "      <td>POINT (-75.23402 39.89876)</td>\n",
       "    </tr>\n",
       "    <tr>\n",
       "      <th>4</th>\n",
       "      <td>Gym</td>\n",
       "      <td>FDR Park Playground</td>\n",
       "      <td>POINT (-75.17740 39.90368)</td>\n",
       "    </tr>\n",
       "    <tr>\n",
       "      <th>...</th>\n",
       "      <td>...</td>\n",
       "      <td>...</td>\n",
       "      <td>...</td>\n",
       "    </tr>\n",
       "    <tr>\n",
       "      <th>1032</th>\n",
       "      <td>Nest</td>\n",
       "      <td>Pokemon Nest</td>\n",
       "      <td>POINT (-74.97938 40.11621)</td>\n",
       "    </tr>\n",
       "    <tr>\n",
       "      <th>1033</th>\n",
       "      <td>Gym</td>\n",
       "      <td>memorial</td>\n",
       "      <td>POINT (-74.96733 40.10399)</td>\n",
       "    </tr>\n",
       "    <tr>\n",
       "      <th>1034</th>\n",
       "      <td>PokeStop</td>\n",
       "      <td>Century Lane Bridge</td>\n",
       "      <td>POINT (-74.96556 40.10815)</td>\n",
       "    </tr>\n",
       "    <tr>\n",
       "      <th>1035</th>\n",
       "      <td>PokeStop</td>\n",
       "      <td>Coach Dick Hoffman Memorial Field</td>\n",
       "      <td>POINT (-74.96718 40.10369)</td>\n",
       "    </tr>\n",
       "    <tr>\n",
       "      <th>1036</th>\n",
       "      <td>PokeStop</td>\n",
       "      <td>Michael J. Gavaghan Memorial Field</td>\n",
       "      <td>POINT (-74.96547 40.10309)</td>\n",
       "    </tr>\n",
       "  </tbody>\n",
       "</table>\n",
       "<p>1037 rows × 3 columns</p>\n",
       "</div>"
      ],
      "text/plain": [
       "             kind                                name  \\\n",
       "0             Gym                Available blitz pink   \n",
       "1             Gym            Eagles Nova care Complex   \n",
       "2     EX Raid Gym            Edgewood Lake Boat House   \n",
       "3             Gym              Electric Motor Artwork   \n",
       "4             Gym                 FDR Park Playground   \n",
       "...           ...                                 ...   \n",
       "1032         Nest                        Pokemon Nest   \n",
       "1033          Gym                            memorial   \n",
       "1034     PokeStop                 Century Lane Bridge   \n",
       "1035     PokeStop   Coach Dick Hoffman Memorial Field   \n",
       "1036     PokeStop  Michael J. Gavaghan Memorial Field   \n",
       "\n",
       "                        geometry  \n",
       "0     POINT (-75.24380 39.87486)  \n",
       "1     POINT (-75.17621 39.90683)  \n",
       "2     POINT (-75.18166 39.90385)  \n",
       "3     POINT (-75.23402 39.89876)  \n",
       "4     POINT (-75.17740 39.90368)  \n",
       "...                          ...  \n",
       "1032  POINT (-74.97938 40.11621)  \n",
       "1033  POINT (-74.96733 40.10399)  \n",
       "1034  POINT (-74.96556 40.10815)  \n",
       "1035  POINT (-74.96718 40.10369)  \n",
       "1036  POINT (-74.96547 40.10309)  \n",
       "\n",
       "[1037 rows x 3 columns]"
      ]
     },
     "execution_count": 5,
     "metadata": {},
     "output_type": "execute_result"
    }
   ],
   "source": [
    "pokestop"
   ]
  },
  {
   "cell_type": "code",
   "execution_count": 6,
   "id": "296d06e8",
   "metadata": {
    "collapsed": true
   },
   "outputs": [
    {
     "ename": "UnicodeDecodeError",
     "evalue": "'utf-8' codec can't decode byte 0xd5 in position 71: invalid continuation byte",
     "output_type": "error",
     "traceback": [
      "\u001b[1;31m---------------------------------------------------------------------------\u001b[0m",
      "\u001b[1;31mUnicodeDecodeError\u001b[0m                        Traceback (most recent call last)",
      "\u001b[1;31mUnicodeDecodeError\u001b[0m: 'utf-8' codec can't decode byte 0xd5 in position 71: invalid continuation byte"
     ]
    },
    {
     "name": "stderr",
     "output_type": "stream",
     "text": [
      "Exception ignored in: 'fiona._env.log_error'\n",
      "Traceback (most recent call last):\n",
      "  File \"D:\\Conda\\envs\\musa-550-fall-2021\\lib\\site-packages\\fiona\\env.py\", line 283, in defenv\n",
      "    local._env.start()\n",
      "UnicodeDecodeError: 'utf-8' codec can't decode byte 0xd5 in position 71: invalid continuation byte\n"
     ]
    },
    {
     "ename": "UnicodeDecodeError",
     "evalue": "'utf-8' codec can't decode byte 0xd5 in position 71: invalid continuation byte",
     "output_type": "error",
     "traceback": [
      "\u001b[1;31m---------------------------------------------------------------------------\u001b[0m",
      "\u001b[1;31mUnicodeDecodeError\u001b[0m                        Traceback (most recent call last)",
      "\u001b[1;31mUnicodeDecodeError\u001b[0m: 'utf-8' codec can't decode byte 0xd5 in position 71: invalid continuation byte"
     ]
    },
    {
     "name": "stderr",
     "output_type": "stream",
     "text": [
      "Exception ignored in: 'fiona._env.log_error'\n",
      "Traceback (most recent call last):\n",
      "  File \"D:\\Conda\\envs\\musa-550-fall-2021\\lib\\site-packages\\fiona\\env.py\", line 283, in defenv\n",
      "    local._env.start()\n",
      "UnicodeDecodeError: 'utf-8' codec can't decode byte 0xd5 in position 71: invalid continuation byte\n"
     ]
    },
    {
     "ename": "UnicodeDecodeError",
     "evalue": "'utf-8' codec can't decode byte 0xd5 in position 76: invalid continuation byte",
     "output_type": "error",
     "traceback": [
      "\u001b[1;31m---------------------------------------------------------------------------\u001b[0m",
      "\u001b[1;31mUnicodeDecodeError\u001b[0m                        Traceback (most recent call last)",
      "\u001b[1;31mUnicodeDecodeError\u001b[0m: 'utf-8' codec can't decode byte 0xd5 in position 76: invalid continuation byte"
     ]
    },
    {
     "name": "stderr",
     "output_type": "stream",
     "text": [
      "Exception ignored in: 'fiona._env.log_error'\n",
      "Traceback (most recent call last):\n",
      "  File \"D:\\Conda\\envs\\musa-550-fall-2021\\lib\\site-packages\\fiona\\env.py\", line 283, in defenv\n",
      "    local._env.start()\n",
      "UnicodeDecodeError: 'utf-8' codec can't decode byte 0xd5 in position 76: invalid continuation byte\n"
     ]
    },
    {
     "ename": "UnicodeDecodeError",
     "evalue": "'utf-8' codec can't decode byte 0xd5 in position 76: invalid continuation byte",
     "output_type": "error",
     "traceback": [
      "\u001b[1;31m---------------------------------------------------------------------------\u001b[0m",
      "\u001b[1;31mUnicodeDecodeError\u001b[0m                        Traceback (most recent call last)",
      "\u001b[1;31mUnicodeDecodeError\u001b[0m: 'utf-8' codec can't decode byte 0xd5 in position 76: invalid continuation byte"
     ]
    },
    {
     "name": "stderr",
     "output_type": "stream",
     "text": [
      "Exception ignored in: 'fiona._env.log_error'\n",
      "Traceback (most recent call last):\n",
      "  File \"D:\\Conda\\envs\\musa-550-fall-2021\\lib\\site-packages\\fiona\\env.py\", line 283, in defenv\n",
      "    local._env.start()\n",
      "UnicodeDecodeError: 'utf-8' codec can't decode byte 0xd5 in position 76: invalid continuation byte\n"
     ]
    },
    {
     "ename": "UnicodeDecodeError",
     "evalue": "'utf-8' codec can't decode byte 0xd5 in position 67: invalid continuation byte",
     "output_type": "error",
     "traceback": [
      "\u001b[1;31m---------------------------------------------------------------------------\u001b[0m",
      "\u001b[1;31mUnicodeDecodeError\u001b[0m                        Traceback (most recent call last)",
      "\u001b[1;31mUnicodeDecodeError\u001b[0m: 'utf-8' codec can't decode byte 0xd5 in position 67: invalid continuation byte"
     ]
    },
    {
     "name": "stderr",
     "output_type": "stream",
     "text": [
      "Exception ignored in: 'fiona._env.log_error'\n",
      "Traceback (most recent call last):\n",
      "  File \"D:\\Conda\\envs\\musa-550-fall-2021\\lib\\site-packages\\fiona\\env.py\", line 283, in defenv\n",
      "    local._env.start()\n",
      "UnicodeDecodeError: 'utf-8' codec can't decode byte 0xd5 in position 67: invalid continuation byte\n"
     ]
    },
    {
     "ename": "UnicodeDecodeError",
     "evalue": "'utf-8' codec can't decode byte 0xd5 in position 67: invalid continuation byte",
     "output_type": "error",
     "traceback": [
      "\u001b[1;31m---------------------------------------------------------------------------\u001b[0m",
      "\u001b[1;31mUnicodeDecodeError\u001b[0m                        Traceback (most recent call last)",
      "\u001b[1;31mUnicodeDecodeError\u001b[0m: 'utf-8' codec can't decode byte 0xd5 in position 67: invalid continuation byte"
     ]
    },
    {
     "name": "stderr",
     "output_type": "stream",
     "text": [
      "Exception ignored in: 'fiona._env.log_error'\n",
      "Traceback (most recent call last):\n",
      "  File \"D:\\Conda\\envs\\musa-550-fall-2021\\lib\\site-packages\\fiona\\env.py\", line 283, in defenv\n",
      "    local._env.start()\n",
      "UnicodeDecodeError: 'utf-8' codec can't decode byte 0xd5 in position 67: invalid continuation byte\n"
     ]
    },
    {
     "ename": "UnicodeDecodeError",
     "evalue": "'utf-8' codec can't decode byte 0xd5 in position 71: invalid continuation byte",
     "output_type": "error",
     "traceback": [
      "\u001b[1;31m---------------------------------------------------------------------------\u001b[0m",
      "\u001b[1;31mUnicodeDecodeError\u001b[0m                        Traceback (most recent call last)",
      "\u001b[1;31mUnicodeDecodeError\u001b[0m: 'utf-8' codec can't decode byte 0xd5 in position 71: invalid continuation byte"
     ]
    },
    {
     "name": "stderr",
     "output_type": "stream",
     "text": [
      "Exception ignored in: 'fiona._env.log_error'\n",
      "Traceback (most recent call last):\n",
      "  File \"D:\\Conda\\envs\\musa-550-fall-2021\\lib\\site-packages\\fiona\\env.py\", line 283, in defenv\n",
      "    local._env.start()\n",
      "UnicodeDecodeError: 'utf-8' codec can't decode byte 0xd5 in position 71: invalid continuation byte\n"
     ]
    },
    {
     "ename": "UnicodeDecodeError",
     "evalue": "'utf-8' codec can't decode byte 0xd5 in position 71: invalid continuation byte",
     "output_type": "error",
     "traceback": [
      "\u001b[1;31m---------------------------------------------------------------------------\u001b[0m",
      "\u001b[1;31mUnicodeDecodeError\u001b[0m                        Traceback (most recent call last)",
      "\u001b[1;31mUnicodeDecodeError\u001b[0m: 'utf-8' codec can't decode byte 0xd5 in position 71: invalid continuation byte"
     ]
    },
    {
     "name": "stderr",
     "output_type": "stream",
     "text": [
      "Exception ignored in: 'fiona._env.log_error'\n",
      "Traceback (most recent call last):\n",
      "  File \"D:\\Conda\\envs\\musa-550-fall-2021\\lib\\site-packages\\fiona\\env.py\", line 283, in defenv\n",
      "    local._env.start()\n",
      "UnicodeDecodeError: 'utf-8' codec can't decode byte 0xd5 in position 71: invalid continuation byte\n"
     ]
    },
    {
     "ename": "UnicodeDecodeError",
     "evalue": "'utf-8' codec can't decode byte 0xd5 in position 76: invalid continuation byte",
     "output_type": "error",
     "traceback": [
      "\u001b[1;31m---------------------------------------------------------------------------\u001b[0m",
      "\u001b[1;31mUnicodeDecodeError\u001b[0m                        Traceback (most recent call last)",
      "\u001b[1;31mUnicodeDecodeError\u001b[0m: 'utf-8' codec can't decode byte 0xd5 in position 76: invalid continuation byte"
     ]
    },
    {
     "name": "stderr",
     "output_type": "stream",
     "text": [
      "Exception ignored in: 'fiona._env.log_error'\n",
      "Traceback (most recent call last):\n",
      "  File \"D:\\Conda\\envs\\musa-550-fall-2021\\lib\\site-packages\\fiona\\env.py\", line 283, in defenv\n",
      "    local._env.start()\n",
      "UnicodeDecodeError: 'utf-8' codec can't decode byte 0xd5 in position 76: invalid continuation byte\n"
     ]
    },
    {
     "ename": "UnicodeDecodeError",
     "evalue": "'utf-8' codec can't decode byte 0xd5 in position 76: invalid continuation byte",
     "output_type": "error",
     "traceback": [
      "\u001b[1;31m---------------------------------------------------------------------------\u001b[0m",
      "\u001b[1;31mUnicodeDecodeError\u001b[0m                        Traceback (most recent call last)",
      "\u001b[1;31mUnicodeDecodeError\u001b[0m: 'utf-8' codec can't decode byte 0xd5 in position 76: invalid continuation byte"
     ]
    },
    {
     "name": "stderr",
     "output_type": "stream",
     "text": [
      "Exception ignored in: 'fiona._env.log_error'\n",
      "Traceback (most recent call last):\n",
      "  File \"D:\\Conda\\envs\\musa-550-fall-2021\\lib\\site-packages\\fiona\\env.py\", line 283, in defenv\n",
      "    local._env.start()\n",
      "UnicodeDecodeError: 'utf-8' codec can't decode byte 0xd5 in position 76: invalid continuation byte\n"
     ]
    },
    {
     "ename": "UnicodeDecodeError",
     "evalue": "'utf-8' codec can't decode byte 0xd5 in position 67: invalid continuation byte",
     "output_type": "error",
     "traceback": [
      "\u001b[1;31m---------------------------------------------------------------------------\u001b[0m",
      "\u001b[1;31mUnicodeDecodeError\u001b[0m                        Traceback (most recent call last)",
      "\u001b[1;31mUnicodeDecodeError\u001b[0m: 'utf-8' codec can't decode byte 0xd5 in position 67: invalid continuation byte"
     ]
    },
    {
     "name": "stderr",
     "output_type": "stream",
     "text": [
      "Exception ignored in: 'fiona._env.log_error'\n",
      "Traceback (most recent call last):\n",
      "  File \"D:\\Conda\\envs\\musa-550-fall-2021\\lib\\site-packages\\fiona\\env.py\", line 283, in defenv\n",
      "    local._env.start()\n",
      "UnicodeDecodeError: 'utf-8' codec can't decode byte 0xd5 in position 67: invalid continuation byte\n"
     ]
    },
    {
     "ename": "UnicodeDecodeError",
     "evalue": "'utf-8' codec can't decode byte 0xd5 in position 67: invalid continuation byte",
     "output_type": "error",
     "traceback": [
      "\u001b[1;31m---------------------------------------------------------------------------\u001b[0m",
      "\u001b[1;31mUnicodeDecodeError\u001b[0m                        Traceback (most recent call last)",
      "\u001b[1;31mUnicodeDecodeError\u001b[0m: 'utf-8' codec can't decode byte 0xd5 in position 67: invalid continuation byte"
     ]
    },
    {
     "name": "stderr",
     "output_type": "stream",
     "text": [
      "Exception ignored in: 'fiona._env.log_error'\n",
      "Traceback (most recent call last):\n",
      "  File \"D:\\Conda\\envs\\musa-550-fall-2021\\lib\\site-packages\\fiona\\env.py\", line 283, in defenv\n",
      "    local._env.start()\n",
      "UnicodeDecodeError: 'utf-8' codec can't decode byte 0xd5 in position 67: invalid continuation byte\n"
     ]
    }
   ],
   "source": [
    "crs = 4326\n",
    "\n",
    "city_limits = gpd.read_file('E:/graduate/capstone/capstone_data/City_Limits.geojson')\n",
    "city_limits = city_limits.to_crs(crs)"
   ]
  },
  {
   "cell_type": "code",
   "execution_count": 7,
   "id": "f0105e4f",
   "metadata": {},
   "outputs": [
    {
     "name": "stderr",
     "output_type": "stream",
     "text": [
      "D:\\Conda\\envs\\musa-550-fall-2021\\lib\\site-packages\\IPython\\core\\interactiveshell.py:3361: FutureWarning: The `op` parameter is deprecated and will be removed in a future release. Please use the `predicate` parameter instead.\n",
      "  if (await self.run_code(code, result,  async_=asy)):\n"
     ]
    }
   ],
   "source": [
    "pokestop = gpd.sjoin(pokestop,city_limits,op=\"intersects\")"
   ]
  },
  {
   "cell_type": "code",
   "execution_count": 8,
   "id": "05d22b61",
   "metadata": {},
   "outputs": [],
   "source": [
    "pokestop = pokestop[[\"kind\",\"name\",\"geometry\"]]"
   ]
  },
  {
   "cell_type": "code",
   "execution_count": 12,
   "id": "8fb61f8a",
   "metadata": {},
   "outputs": [
    {
     "data": {
      "text/plain": [
       "<AxesSubplot:>"
      ]
     },
     "execution_count": 12,
     "metadata": {},
     "output_type": "execute_result"
    },
    {
     "data": {
      "image/png": "[encoded data removed]",
      "text/plain": [
       "<Figure size 720x720 with 1 Axes>"
      ]
     },
     "metadata": {
      "needs_background": "light"
     },
     "output_type": "display_data"
    }
   ],
   "source": [
    "f,ax = plt.subplots(figsize=(10,10))\n",
    "pokestop.plot(ax=ax,column=\"kind\",cmap=\"viridis\",legend=True,legend_kwds=dict(loc=\"lower right\"))\n",
    "city_limits.plot(ax=ax, facecolor='none')"
   ]
  },
  {
   "cell_type": "code",
   "execution_count": 10,
   "id": "3681e44a",
   "metadata": {},
   "outputs": [],
   "source": [
    "gym=pokestop[pokestop[\"kind\"]==\"Gym\"]\n",
    "raid=pokestop[pokestop[\"kind\"]==\"EX Raid Gym\"]\n",
    "stop=pokestop[pokestop[\"kind\"]==\"PokeStop\"]\n",
    "nest=pokestop[pokestop[\"kind\"]==\"Nest\"]"
   ]
  },
  {
   "cell_type": "code",
   "execution_count": 11,
   "id": "75ac4686",
   "metadata": {},
   "outputs": [],
   "source": [
    "pokestop.to_file(\"E:/graduate/capstone/capstone/processed_data/pokestop.shp\")\n",
    "gym.to_file(\"E:/graduate/capstone/capstone/processed_data/gym.shp\")\n",
    "raid.to_file(\"E:/graduate/capstone/capstone/processed_data/raid.shp\")\n",
    "stop.to_file(\"E:/graduate/capstone/capstone/processed_data/stop.shp\")\n",
    "nest.to_file(\"E:/graduate/capstone/capstone/processed_data/nest.shp\")"
   ]
  }
 ],
 "metadata": {
  "kernelspec": {
   "display_name": "Python 3 (ipykernel)",
   "language": "python",
   "name": "python3"
  },
  "language_info": {
   "codemirror_mode": {
    "name": "ipython",
    "version": 3
   },
   "file_extension": ".py",
   "mimetype": "text/x-python",
   "name": "python",
   "nbconvert_exporter": "python",
   "pygments_lexer": "ipython3",
   "version": "3.8.12"
  }
 },
 "nbformat": 4,
 "nbformat_minor": 5
}
