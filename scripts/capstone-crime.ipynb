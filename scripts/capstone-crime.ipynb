{
 "cells": [
  {
   "cell_type": "code",
   "execution_count": 9,
   "id": "bec8e744",
   "metadata": {},
   "outputs": [],
   "source": [
    "import numpy as np\n",
    "import pandas as pd\n",
    "import geopandas as gpd\n",
    "from shapely.geometry import Point\n",
    "import matplotlib.pyplot as plt"
   ]
  },
  {
   "cell_type": "code",
   "execution_count": 45,
   "id": "ecadd234",
   "metadata": {
    "scrolled": true
   },
   "outputs": [
    {
     "name": "stderr",
     "output_type": "stream",
     "text": [
      "D:\\Conda\\envs\\musa-550-fall-2021\\lib\\site-packages\\IPython\\core\\interactiveshell.py:3441: DtypeWarning: Columns (2) have mixed types.Specify dtype option on import or set low_memory=False.\n",
      "  exec(code_obj, self.user_global_ns, self.user_ns)\n"
     ]
    }
   ],
   "source": [
    "crime17 = pd.read_csv(\"E:/graduate/capstone/capstone/raw_data/2017incidents_part1_part2.csv\")\n",
    "crime18 = pd.read_csv(\"E:/graduate/capstone/capstone/raw_data/2018incidents_part1_part2.csv\")\n",
    "crime19 = pd.read_csv(\"E:/graduate/capstone/capstone/raw_data/2019incidents_part1_part2.csv\")\n",
    "crime20 = pd.read_csv(\"E:/graduate/capstone/capstone/raw_data/2020incidents_part1_part2.csv\")\n",
    "crime21 = pd.read_csv(\"E:/graduate/capstone/capstone/raw_data/2021incidents_part1_part2.csv\")"
   ]
  },
  {
   "cell_type": "code",
   "execution_count": 68,
   "id": "0de34040",
   "metadata": {},
   "outputs": [],
   "source": [
    "def to_geodata(data):\n",
    "    data = data[(data[\"lng\"]>-77.5) & (data[\"lat\"]>38)]\n",
    "    geom = [Point(xy) for xy in zip(data.lng, data.lat)]\n",
    "    data = gpd.GeoDataFrame(data, crs=4326, geometry=geom)\n",
    "    data = data[[\"geometry\"]]\n",
    "    return data"
   ]
  },
  {
   "cell_type": "code",
   "execution_count": 69,
   "id": "1679f1d4",
   "metadata": {},
   "outputs": [],
   "source": [
    "crime17_geo = to_geodata(crime17)\n",
    "crime18_geo = to_geodata(crime18)\n",
    "crime19_geo = to_geodata(crime19)\n",
    "crime20_geo = to_geodata(crime20)\n",
    "crime21_geo = to_geodata(crime21)"
   ]
  },
  {
   "cell_type": "code",
   "execution_count": 83,
   "id": "9d41edf5",
   "metadata": {},
   "outputs": [],
   "source": [
    "crime = pd.concat([crime17_geo,crime18_geo,crime19_geo,crime20_geo,crime21_geo],axis=0).reset_index(drop=True)"
   ]
  },
  {
   "cell_type": "code",
   "execution_count": 85,
   "id": "a6b92d09",
   "metadata": {
    "collapsed": true
   },
   "outputs": [
    {
     "ename": "UnicodeDecodeError",
     "evalue": "'utf-8' codec can't decode byte 0xd5 in position 71: invalid continuation byte",
     "output_type": "error",
     "traceback": [
      "\u001b[1;31m---------------------------------------------------------------------------\u001b[0m",
      "\u001b[1;31mUnicodeDecodeError\u001b[0m                        Traceback (most recent call last)",
      "\u001b[1;31mUnicodeDecodeError\u001b[0m: 'utf-8' codec can't decode byte 0xd5 in position 71: invalid continuation byte"
     ]
    },
    {
     "name": "stderr",
     "output_type": "stream",
     "text": [
      "Exception ignored in: 'fiona._env.log_error'\n",
      "Traceback (most recent call last):\n",
      "  File \"D:\\Conda\\envs\\musa-550-fall-2021\\lib\\site-packages\\fiona\\env.py\", line 283, in defenv\n",
      "    local._env.start()\n",
      "UnicodeDecodeError: 'utf-8' codec can't decode byte 0xd5 in position 71: invalid continuation byte\n"
     ]
    },
    {
     "ename": "UnicodeDecodeError",
     "evalue": "'utf-8' codec can't decode byte 0xd5 in position 71: invalid continuation byte",
     "output_type": "error",
     "traceback": [
      "\u001b[1;31m---------------------------------------------------------------------------\u001b[0m",
      "\u001b[1;31mUnicodeDecodeError\u001b[0m                        Traceback (most recent call last)",
      "\u001b[1;31mUnicodeDecodeError\u001b[0m: 'utf-8' codec can't decode byte 0xd5 in position 71: invalid continuation byte"
     ]
    },
    {
     "name": "stderr",
     "output_type": "stream",
     "text": [
      "Exception ignored in: 'fiona._env.log_error'\n",
      "Traceback (most recent call last):\n",
      "  File \"D:\\Conda\\envs\\musa-550-fall-2021\\lib\\site-packages\\fiona\\env.py\", line 283, in defenv\n",
      "    local._env.start()\n",
      "UnicodeDecodeError: 'utf-8' codec can't decode byte 0xd5 in position 71: invalid continuation byte\n"
     ]
    },
    {
     "ename": "UnicodeDecodeError",
     "evalue": "'utf-8' codec can't decode byte 0xd5 in position 76: invalid continuation byte",
     "output_type": "error",
     "traceback": [
      "\u001b[1;31m---------------------------------------------------------------------------\u001b[0m",
      "\u001b[1;31mUnicodeDecodeError\u001b[0m                        Traceback (most recent call last)",
      "\u001b[1;31mUnicodeDecodeError\u001b[0m: 'utf-8' codec can't decode byte 0xd5 in position 76: invalid continuation byte"
     ]
    },
    {
     "name": "stderr",
     "output_type": "stream",
     "text": [
      "Exception ignored in: 'fiona._env.log_error'\n",
      "Traceback (most recent call last):\n",
      "  File \"D:\\Conda\\envs\\musa-550-fall-2021\\lib\\site-packages\\fiona\\env.py\", line 283, in defenv\n",
      "    local._env.start()\n",
      "UnicodeDecodeError: 'utf-8' codec can't decode byte 0xd5 in position 76: invalid continuation byte\n"
     ]
    },
    {
     "ename": "UnicodeDecodeError",
     "evalue": "'utf-8' codec can't decode byte 0xd5 in position 76: invalid continuation byte",
     "output_type": "error",
     "traceback": [
      "\u001b[1;31m---------------------------------------------------------------------------\u001b[0m",
      "\u001b[1;31mUnicodeDecodeError\u001b[0m                        Traceback (most recent call last)",
      "\u001b[1;31mUnicodeDecodeError\u001b[0m: 'utf-8' codec can't decode byte 0xd5 in position 76: invalid continuation byte"
     ]
    },
    {
     "name": "stderr",
     "output_type": "stream",
     "text": [
      "Exception ignored in: 'fiona._env.log_error'\n",
      "Traceback (most recent call last):\n",
      "  File \"D:\\Conda\\envs\\musa-550-fall-2021\\lib\\site-packages\\fiona\\env.py\", line 283, in defenv\n",
      "    local._env.start()\n",
      "UnicodeDecodeError: 'utf-8' codec can't decode byte 0xd5 in position 76: invalid continuation byte\n"
     ]
    },
    {
     "ename": "UnicodeDecodeError",
     "evalue": "'utf-8' codec can't decode byte 0xd5 in position 67: invalid continuation byte",
     "output_type": "error",
     "traceback": [
      "\u001b[1;31m---------------------------------------------------------------------------\u001b[0m",
      "\u001b[1;31mUnicodeDecodeError\u001b[0m                        Traceback (most recent call last)",
      "\u001b[1;31mUnicodeDecodeError\u001b[0m: 'utf-8' codec can't decode byte 0xd5 in position 67: invalid continuation byte"
     ]
    },
    {
     "name": "stderr",
     "output_type": "stream",
     "text": [
      "Exception ignored in: 'fiona._env.log_error'\n",
      "Traceback (most recent call last):\n",
      "  File \"D:\\Conda\\envs\\musa-550-fall-2021\\lib\\site-packages\\fiona\\env.py\", line 283, in defenv\n",
      "    local._env.start()\n",
      "UnicodeDecodeError: 'utf-8' codec can't decode byte 0xd5 in position 67: invalid continuation byte\n"
     ]
    },
    {
     "ename": "UnicodeDecodeError",
     "evalue": "'utf-8' codec can't decode byte 0xd5 in position 67: invalid continuation byte",
     "output_type": "error",
     "traceback": [
      "\u001b[1;31m---------------------------------------------------------------------------\u001b[0m",
      "\u001b[1;31mUnicodeDecodeError\u001b[0m                        Traceback (most recent call last)",
      "\u001b[1;31mUnicodeDecodeError\u001b[0m: 'utf-8' codec can't decode byte 0xd5 in position 67: invalid continuation byte"
     ]
    },
    {
     "name": "stderr",
     "output_type": "stream",
     "text": [
      "Exception ignored in: 'fiona._env.log_error'\n",
      "Traceback (most recent call last):\n",
      "  File \"D:\\Conda\\envs\\musa-550-fall-2021\\lib\\site-packages\\fiona\\env.py\", line 283, in defenv\n",
      "    local._env.start()\n",
      "UnicodeDecodeError: 'utf-8' codec can't decode byte 0xd5 in position 67: invalid continuation byte\n"
     ]
    },
    {
     "ename": "UnicodeDecodeError",
     "evalue": "'utf-8' codec can't decode byte 0xd5 in position 71: invalid continuation byte",
     "output_type": "error",
     "traceback": [
      "\u001b[1;31m---------------------------------------------------------------------------\u001b[0m",
      "\u001b[1;31mUnicodeDecodeError\u001b[0m                        Traceback (most recent call last)",
      "\u001b[1;31mUnicodeDecodeError\u001b[0m: 'utf-8' codec can't decode byte 0xd5 in position 71: invalid continuation byte"
     ]
    },
    {
     "name": "stderr",
     "output_type": "stream",
     "text": [
      "Exception ignored in: 'fiona._env.log_error'\n",
      "Traceback (most recent call last):\n",
      "  File \"D:\\Conda\\envs\\musa-550-fall-2021\\lib\\site-packages\\fiona\\env.py\", line 283, in defenv\n",
      "    local._env.start()\n",
      "UnicodeDecodeError: 'utf-8' codec can't decode byte 0xd5 in position 71: invalid continuation byte\n"
     ]
    },
    {
     "ename": "UnicodeDecodeError",
     "evalue": "'utf-8' codec can't decode byte 0xd5 in position 71: invalid continuation byte",
     "output_type": "error",
     "traceback": [
      "\u001b[1;31m---------------------------------------------------------------------------\u001b[0m",
      "\u001b[1;31mUnicodeDecodeError\u001b[0m                        Traceback (most recent call last)",
      "\u001b[1;31mUnicodeDecodeError\u001b[0m: 'utf-8' codec can't decode byte 0xd5 in position 71: invalid continuation byte"
     ]
    },
    {
     "name": "stderr",
     "output_type": "stream",
     "text": [
      "Exception ignored in: 'fiona._env.log_error'\n",
      "Traceback (most recent call last):\n",
      "  File \"D:\\Conda\\envs\\musa-550-fall-2021\\lib\\site-packages\\fiona\\env.py\", line 283, in defenv\n",
      "    local._env.start()\n",
      "UnicodeDecodeError: 'utf-8' codec can't decode byte 0xd5 in position 71: invalid continuation byte\n"
     ]
    },
    {
     "ename": "UnicodeDecodeError",
     "evalue": "'utf-8' codec can't decode byte 0xd5 in position 76: invalid continuation byte",
     "output_type": "error",
     "traceback": [
      "\u001b[1;31m---------------------------------------------------------------------------\u001b[0m",
      "\u001b[1;31mUnicodeDecodeError\u001b[0m                        Traceback (most recent call last)",
      "\u001b[1;31mUnicodeDecodeError\u001b[0m: 'utf-8' codec can't decode byte 0xd5 in position 76: invalid continuation byte"
     ]
    },
    {
     "name": "stderr",
     "output_type": "stream",
     "text": [
      "Exception ignored in: 'fiona._env.log_error'\n",
      "Traceback (most recent call last):\n",
      "  File \"D:\\Conda\\envs\\musa-550-fall-2021\\lib\\site-packages\\fiona\\env.py\", line 283, in defenv\n",
      "    local._env.start()\n",
      "UnicodeDecodeError: 'utf-8' codec can't decode byte 0xd5 in position 76: invalid continuation byte\n"
     ]
    },
    {
     "ename": "UnicodeDecodeError",
     "evalue": "'utf-8' codec can't decode byte 0xd5 in position 76: invalid continuation byte",
     "output_type": "error",
     "traceback": [
      "\u001b[1;31m---------------------------------------------------------------------------\u001b[0m",
      "\u001b[1;31mUnicodeDecodeError\u001b[0m                        Traceback (most recent call last)",
      "\u001b[1;31mUnicodeDecodeError\u001b[0m: 'utf-8' codec can't decode byte 0xd5 in position 76: invalid continuation byte"
     ]
    },
    {
     "name": "stderr",
     "output_type": "stream",
     "text": [
      "Exception ignored in: 'fiona._env.log_error'\n",
      "Traceback (most recent call last):\n",
      "  File \"D:\\Conda\\envs\\musa-550-fall-2021\\lib\\site-packages\\fiona\\env.py\", line 283, in defenv\n",
      "    local._env.start()\n",
      "UnicodeDecodeError: 'utf-8' codec can't decode byte 0xd5 in position 76: invalid continuation byte\n"
     ]
    },
    {
     "ename": "UnicodeDecodeError",
     "evalue": "'utf-8' codec can't decode byte 0xd5 in position 67: invalid continuation byte",
     "output_type": "error",
     "traceback": [
      "\u001b[1;31m---------------------------------------------------------------------------\u001b[0m",
      "\u001b[1;31mUnicodeDecodeError\u001b[0m                        Traceback (most recent call last)",
      "\u001b[1;31mUnicodeDecodeError\u001b[0m: 'utf-8' codec can't decode byte 0xd5 in position 67: invalid continuation byte"
     ]
    },
    {
     "name": "stderr",
     "output_type": "stream",
     "text": [
      "Exception ignored in: 'fiona._env.log_error'\n",
      "Traceback (most recent call last):\n",
      "  File \"D:\\Conda\\envs\\musa-550-fall-2021\\lib\\site-packages\\fiona\\env.py\", line 283, in defenv\n",
      "    local._env.start()\n",
      "UnicodeDecodeError: 'utf-8' codec can't decode byte 0xd5 in position 67: invalid continuation byte\n"
     ]
    },
    {
     "ename": "UnicodeDecodeError",
     "evalue": "'utf-8' codec can't decode byte 0xd5 in position 67: invalid continuation byte",
     "output_type": "error",
     "traceback": [
      "\u001b[1;31m---------------------------------------------------------------------------\u001b[0m",
      "\u001b[1;31mUnicodeDecodeError\u001b[0m                        Traceback (most recent call last)",
      "\u001b[1;31mUnicodeDecodeError\u001b[0m: 'utf-8' codec can't decode byte 0xd5 in position 67: invalid continuation byte"
     ]
    },
    {
     "name": "stderr",
     "output_type": "stream",
     "text": [
      "Exception ignored in: 'fiona._env.log_error'\n",
      "Traceback (most recent call last):\n",
      "  File \"D:\\Conda\\envs\\musa-550-fall-2021\\lib\\site-packages\\fiona\\env.py\", line 283, in defenv\n",
      "    local._env.start()\n",
      "UnicodeDecodeError: 'utf-8' codec can't decode byte 0xd5 in position 67: invalid continuation byte\n"
     ]
    },
    {
     "ename": "UnicodeDecodeError",
     "evalue": "'utf-8' codec can't decode byte 0xd5 in position 71: invalid continuation byte",
     "output_type": "error",
     "traceback": [
      "\u001b[1;31m---------------------------------------------------------------------------\u001b[0m",
      "\u001b[1;31mUnicodeDecodeError\u001b[0m                        Traceback (most recent call last)",
      "\u001b[1;31mUnicodeDecodeError\u001b[0m: 'utf-8' codec can't decode byte 0xd5 in position 71: invalid continuation byte"
     ]
    },
    {
     "name": "stderr",
     "output_type": "stream",
     "text": [
      "Exception ignored in: 'fiona._env.log_error'\n",
      "Traceback (most recent call last):\n",
      "  File \"D:\\Conda\\envs\\musa-550-fall-2021\\lib\\site-packages\\fiona\\env.py\", line 283, in defenv\n",
      "    local._env.start()\n",
      "UnicodeDecodeError: 'utf-8' codec can't decode byte 0xd5 in position 71: invalid continuation byte\n"
     ]
    },
    {
     "ename": "UnicodeDecodeError",
     "evalue": "'utf-8' codec can't decode byte 0xd5 in position 71: invalid continuation byte",
     "output_type": "error",
     "traceback": [
      "\u001b[1;31m---------------------------------------------------------------------------\u001b[0m",
      "\u001b[1;31mUnicodeDecodeError\u001b[0m                        Traceback (most recent call last)",
      "\u001b[1;31mUnicodeDecodeError\u001b[0m: 'utf-8' codec can't decode byte 0xd5 in position 71: invalid continuation byte"
     ]
    },
    {
     "name": "stderr",
     "output_type": "stream",
     "text": [
      "Exception ignored in: 'fiona._env.log_error'\n",
      "Traceback (most recent call last):\n",
      "  File \"D:\\Conda\\envs\\musa-550-fall-2021\\lib\\site-packages\\fiona\\env.py\", line 283, in defenv\n",
      "    local._env.start()\n",
      "UnicodeDecodeError: 'utf-8' codec can't decode byte 0xd5 in position 71: invalid continuation byte\n"
     ]
    },
    {
     "ename": "UnicodeDecodeError",
     "evalue": "'utf-8' codec can't decode byte 0xd5 in position 76: invalid continuation byte",
     "output_type": "error",
     "traceback": [
      "\u001b[1;31m---------------------------------------------------------------------------\u001b[0m",
      "\u001b[1;31mUnicodeDecodeError\u001b[0m                        Traceback (most recent call last)",
      "\u001b[1;31mUnicodeDecodeError\u001b[0m: 'utf-8' codec can't decode byte 0xd5 in position 76: invalid continuation byte"
     ]
    },
    {
     "name": "stderr",
     "output_type": "stream",
     "text": [
      "Exception ignored in: 'fiona._env.log_error'\n",
      "Traceback (most recent call last):\n",
      "  File \"D:\\Conda\\envs\\musa-550-fall-2021\\lib\\site-packages\\fiona\\env.py\", line 283, in defenv\n",
      "    local._env.start()\n",
      "UnicodeDecodeError: 'utf-8' codec can't decode byte 0xd5 in position 76: invalid continuation byte\n"
     ]
    },
    {
     "ename": "UnicodeDecodeError",
     "evalue": "'utf-8' codec can't decode byte 0xd5 in position 76: invalid continuation byte",
     "output_type": "error",
     "traceback": [
      "\u001b[1;31m---------------------------------------------------------------------------\u001b[0m",
      "\u001b[1;31mUnicodeDecodeError\u001b[0m                        Traceback (most recent call last)",
      "\u001b[1;31mUnicodeDecodeError\u001b[0m: 'utf-8' codec can't decode byte 0xd5 in position 76: invalid continuation byte"
     ]
    },
    {
     "name": "stderr",
     "output_type": "stream",
     "text": [
      "Exception ignored in: 'fiona._env.log_error'\n",
      "Traceback (most recent call last):\n",
      "  File \"D:\\Conda\\envs\\musa-550-fall-2021\\lib\\site-packages\\fiona\\env.py\", line 283, in defenv\n",
      "    local._env.start()\n",
      "UnicodeDecodeError: 'utf-8' codec can't decode byte 0xd5 in position 76: invalid continuation byte\n"
     ]
    },
    {
     "ename": "UnicodeDecodeError",
     "evalue": "'utf-8' codec can't decode byte 0xd5 in position 67: invalid continuation byte",
     "output_type": "error",
     "traceback": [
      "\u001b[1;31m---------------------------------------------------------------------------\u001b[0m",
      "\u001b[1;31mUnicodeDecodeError\u001b[0m                        Traceback (most recent call last)",
      "\u001b[1;31mUnicodeDecodeError\u001b[0m: 'utf-8' codec can't decode byte 0xd5 in position 67: invalid continuation byte"
     ]
    },
    {
     "name": "stderr",
     "output_type": "stream",
     "text": [
      "Exception ignored in: 'fiona._env.log_error'\n",
      "Traceback (most recent call last):\n",
      "  File \"D:\\Conda\\envs\\musa-550-fall-2021\\lib\\site-packages\\fiona\\env.py\", line 283, in defenv\n",
      "    local._env.start()\n",
      "UnicodeDecodeError: 'utf-8' codec can't decode byte 0xd5 in position 67: invalid continuation byte\n"
     ]
    },
    {
     "ename": "UnicodeDecodeError",
     "evalue": "'utf-8' codec can't decode byte 0xd5 in position 67: invalid continuation byte",
     "output_type": "error",
     "traceback": [
      "\u001b[1;31m---------------------------------------------------------------------------\u001b[0m",
      "\u001b[1;31mUnicodeDecodeError\u001b[0m                        Traceback (most recent call last)",
      "\u001b[1;31mUnicodeDecodeError\u001b[0m: 'utf-8' codec can't decode byte 0xd5 in position 67: invalid continuation byte"
     ]
    },
    {
     "name": "stderr",
     "output_type": "stream",
     "text": [
      "Exception ignored in: 'fiona._env.log_error'\n",
      "Traceback (most recent call last):\n",
      "  File \"D:\\Conda\\envs\\musa-550-fall-2021\\lib\\site-packages\\fiona\\env.py\", line 283, in defenv\n",
      "    local._env.start()\n",
      "UnicodeDecodeError: 'utf-8' codec can't decode byte 0xd5 in position 67: invalid continuation byte\n"
     ]
    },
    {
     "ename": "UnicodeDecodeError",
     "evalue": "'utf-8' codec can't decode byte 0xd5 in position 71: invalid continuation byte",
     "output_type": "error",
     "traceback": [
      "\u001b[1;31m---------------------------------------------------------------------------\u001b[0m",
      "\u001b[1;31mUnicodeDecodeError\u001b[0m                        Traceback (most recent call last)",
      "\u001b[1;31mUnicodeDecodeError\u001b[0m: 'utf-8' codec can't decode byte 0xd5 in position 71: invalid continuation byte"
     ]
    },
    {
     "name": "stderr",
     "output_type": "stream",
     "text": [
      "Exception ignored in: 'fiona._env.log_error'\n",
      "Traceback (most recent call last):\n",
      "  File \"D:\\Conda\\envs\\musa-550-fall-2021\\lib\\site-packages\\fiona\\env.py\", line 283, in defenv\n",
      "    local._env.start()\n",
      "UnicodeDecodeError: 'utf-8' codec can't decode byte 0xd5 in position 71: invalid continuation byte\n"
     ]
    },
    {
     "ename": "UnicodeDecodeError",
     "evalue": "'utf-8' codec can't decode byte 0xd5 in position 71: invalid continuation byte",
     "output_type": "error",
     "traceback": [
      "\u001b[1;31m---------------------------------------------------------------------------\u001b[0m",
      "\u001b[1;31mUnicodeDecodeError\u001b[0m                        Traceback (most recent call last)",
      "\u001b[1;31mUnicodeDecodeError\u001b[0m: 'utf-8' codec can't decode byte 0xd5 in position 71: invalid continuation byte"
     ]
    },
    {
     "name": "stderr",
     "output_type": "stream",
     "text": [
      "Exception ignored in: 'fiona._env.log_error'\n",
      "Traceback (most recent call last):\n",
      "  File \"D:\\Conda\\envs\\musa-550-fall-2021\\lib\\site-packages\\fiona\\env.py\", line 283, in defenv\n",
      "    local._env.start()\n",
      "UnicodeDecodeError: 'utf-8' codec can't decode byte 0xd5 in position 71: invalid continuation byte\n"
     ]
    },
    {
     "ename": "UnicodeDecodeError",
     "evalue": "'utf-8' codec can't decode byte 0xd5 in position 76: invalid continuation byte",
     "output_type": "error",
     "traceback": [
      "\u001b[1;31m---------------------------------------------------------------------------\u001b[0m",
      "\u001b[1;31mUnicodeDecodeError\u001b[0m                        Traceback (most recent call last)",
      "\u001b[1;31mUnicodeDecodeError\u001b[0m: 'utf-8' codec can't decode byte 0xd5 in position 76: invalid continuation byte"
     ]
    },
    {
     "name": "stderr",
     "output_type": "stream",
     "text": [
      "Exception ignored in: 'fiona._env.log_error'\n",
      "Traceback (most recent call last):\n",
      "  File \"D:\\Conda\\envs\\musa-550-fall-2021\\lib\\site-packages\\fiona\\env.py\", line 283, in defenv\n",
      "    local._env.start()\n",
      "UnicodeDecodeError: 'utf-8' codec can't decode byte 0xd5 in position 76: invalid continuation byte\n"
     ]
    },
    {
     "ename": "UnicodeDecodeError",
     "evalue": "'utf-8' codec can't decode byte 0xd5 in position 76: invalid continuation byte",
     "output_type": "error",
     "traceback": [
      "\u001b[1;31m---------------------------------------------------------------------------\u001b[0m",
      "\u001b[1;31mUnicodeDecodeError\u001b[0m                        Traceback (most recent call last)",
      "\u001b[1;31mUnicodeDecodeError\u001b[0m: 'utf-8' codec can't decode byte 0xd5 in position 76: invalid continuation byte"
     ]
    },
    {
     "name": "stderr",
     "output_type": "stream",
     "text": [
      "Exception ignored in: 'fiona._env.log_error'\n",
      "Traceback (most recent call last):\n",
      "  File \"D:\\Conda\\envs\\musa-550-fall-2021\\lib\\site-packages\\fiona\\env.py\", line 283, in defenv\n",
      "    local._env.start()\n",
      "UnicodeDecodeError: 'utf-8' codec can't decode byte 0xd5 in position 76: invalid continuation byte\n"
     ]
    },
    {
     "ename": "UnicodeDecodeError",
     "evalue": "'utf-8' codec can't decode byte 0xd5 in position 67: invalid continuation byte",
     "output_type": "error",
     "traceback": [
      "\u001b[1;31m---------------------------------------------------------------------------\u001b[0m",
      "\u001b[1;31mUnicodeDecodeError\u001b[0m                        Traceback (most recent call last)",
      "\u001b[1;31mUnicodeDecodeError\u001b[0m: 'utf-8' codec can't decode byte 0xd5 in position 67: invalid continuation byte"
     ]
    },
    {
     "name": "stderr",
     "output_type": "stream",
     "text": [
      "Exception ignored in: 'fiona._env.log_error'\n",
      "Traceback (most recent call last):\n",
      "  File \"D:\\Conda\\envs\\musa-550-fall-2021\\lib\\site-packages\\fiona\\env.py\", line 283, in defenv\n",
      "    local._env.start()\n",
      "UnicodeDecodeError: 'utf-8' codec can't decode byte 0xd5 in position 67: invalid continuation byte\n"
     ]
    },
    {
     "ename": "UnicodeDecodeError",
     "evalue": "'utf-8' codec can't decode byte 0xd5 in position 67: invalid continuation byte",
     "output_type": "error",
     "traceback": [
      "\u001b[1;31m---------------------------------------------------------------------------\u001b[0m",
      "\u001b[1;31mUnicodeDecodeError\u001b[0m                        Traceback (most recent call last)",
      "\u001b[1;31mUnicodeDecodeError\u001b[0m: 'utf-8' codec can't decode byte 0xd5 in position 67: invalid continuation byte"
     ]
    },
    {
     "name": "stderr",
     "output_type": "stream",
     "text": [
      "Exception ignored in: 'fiona._env.log_error'\n",
      "Traceback (most recent call last):\n",
      "  File \"D:\\Conda\\envs\\musa-550-fall-2021\\lib\\site-packages\\fiona\\env.py\", line 283, in defenv\n",
      "    local._env.start()\n",
      "UnicodeDecodeError: 'utf-8' codec can't decode byte 0xd5 in position 67: invalid continuation byte\n"
     ]
    }
   ],
   "source": [
    "crime.to_file(\"E:/graduate/capstone/capstone/processed_data/crime.shp\")"
   ]
  }
 ],
 "metadata": {
  "kernelspec": {
   "display_name": "Python 3 (ipykernel)",
   "language": "python",
   "name": "python3"
  },
  "language_info": {
   "codemirror_mode": {
    "name": "ipython",
    "version": 3
   },
   "file_extension": ".py",
   "mimetype": "text/x-python",
   "name": "python",
   "nbconvert_exporter": "python",
   "pygments_lexer": "ipython3",
   "version": "3.8.12"
  }
 },
 "nbformat": 4,
 "nbformat_minor": 5
}
